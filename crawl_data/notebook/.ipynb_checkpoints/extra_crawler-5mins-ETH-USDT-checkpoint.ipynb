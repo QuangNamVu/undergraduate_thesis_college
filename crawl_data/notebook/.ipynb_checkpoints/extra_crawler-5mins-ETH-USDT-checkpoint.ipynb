{
 "cells": [
  {
   "cell_type": "code",
   "execution_count": null,
   "metadata": {},
   "outputs": [],
   "source": [
    "import ccxt\n",
    "import time\n",
    "import os\n",
    "import datetime\n",
    "import numpy as np\n",
    "import pandas as pd\n",
    "\n",
    "msec = 1000\n",
    "minute = 60 * msec\n",
    "hour = 60 * minute\n",
    "\n",
    "symbol = 'ETH/USDT'\n",
    "symbol_ = 'ETH_USDT'\n",
    "market = 'binance'\n",
    "timewindow = '5m'\n",
    "\n",
    "if timewindow == '1h':\n",
    "    offset = hour\n",
    "    delay = offset / 1000\n",
    "elif timewindow == '1m':\n",
    "    offset = minute\n",
    "    delay = offset / 1000\n",
    "    \n",
    "elif timewindow == '5m':\n",
    "    offset = 5 * minute\n",
    "    delay = offset / 1000"
   ]
  },
  {
   "cell_type": "code",
   "execution_count": null,
   "metadata": {},
   "outputs": [],
   "source": [
    "def get_file_contents(filename):\n",
    "    try:\n",
    "        with open(filename, 'r') as f:\n",
    "            return f.read().strip()\n",
    "    except FileNotFoundError:\n",
    "        print(\"'%s' file not found\" % filename)\n",
    "\n",
    "\n",
    "binance = ccxt.binance()\n",
    "home_path = os.path.expanduser(\"~\")\n",
    "binance.apiKey = get_file_contents(home_path + '/api_key/binance/pub')\n",
    "binance.secret = get_file_contents(home_path + '/api_key/binance/private')"
   ]
  },
  {
   "cell_type": "code",
   "execution_count": null,
   "metadata": {},
   "outputs": [],
   "source": [
    "binance = ccxt.binance({\n",
    "    'apiKey': binance.apiKey,\n",
    "    'secret': binance.secret,\n",
    "})\n",
    "exchange = binance"
   ]
  },
  {
   "cell_type": "code",
   "execution_count": null,
   "metadata": {},
   "outputs": [],
   "source": [
    "from_datetime = '2017-08-17 00:00:00'\n",
    "from_timestamp = exchange.parse8601(from_datetime)\n",
    "\n",
    "# to_datetime = '2017-08-17 05:00:00'\n",
    "to_datetime = '2019-11-01 00:00:00'\n",
    "to_timestamp = exchange.parse8601(to_datetime)"
   ]
  },
  {
   "cell_type": "code",
   "execution_count": null,
   "metadata": {},
   "outputs": [],
   "source": [
    "t = exchange.fetch_trades(symbol=symbol, since=from_timestamp)"
   ]
  },
  {
   "cell_type": "code",
   "execution_count": null,
   "metadata": {},
   "outputs": [],
   "source": [
    "        # aggregate trades\n",
    "        #\n",
    "        #     [\n",
    "        #         {\n",
    "        #             \"a\": 26129,         # Aggregate tradeId\n",
    "        #             \"p\": \"0.01633102\",  # Price\n",
    "        #             \"q\": \"4.70443515\",  # Quantity\n",
    "        #             \"f\": 27781,         # First tradeId\n",
    "        #             \"l\": 27781,         # Last tradeId\n",
    "        #             \"T\": 1498793709153, # Timestamp\n",
    "        #             \"m\": True,          # Was the buyer the maker?\n",
    "        #             \"M\": True           # Was the trade the best price match?\n",
    "        #         }\n",
    "        #     ]\n",
    "        #"
   ]
  },
  {
   "cell_type": "code",
   "execution_count": null,
   "metadata": {},
   "outputs": [],
   "source": [
    "buy_amount_list = []\n",
    "sell_amount_list = []\n",
    "for trade in t:\n",
    "    if trade.get('side') == 'buy':\n",
    "        buy_amount_list.append(trade.get('amount'))\n",
    "\n",
    "    elif trade.get('side') == 'sell':\n",
    "        sell_amount_list.append(trade.get('amount'))\n",
    "\n",
    "buy_amount_np = np.array(buy_amount_list)\n",
    "sell_amount_np = np.array(sell_amount_list)\n",
    "N_buy = len(buy_amount_np)\n",
    "N_sell = len(sell_amount_list)\n",
    "buy_amount_avg = np.mean(buy_amount_np)\n",
    "sell_amount_avg = np.mean(sell_amount_np)\n",
    "buy_amount_std = np.std(buy_amount_np)\n",
    "sell_amount_std = np.std(sell_amount_np)"
   ]
  },
  {
   "cell_type": "code",
   "execution_count": null,
   "metadata": {
    "scrolled": true
   },
   "outputs": [],
   "source": [
    "df = pd.DataFrame()\n",
    "\n",
    "np_df = np.zeros([300000 , 16])\n",
    "header = ['Timestamp', 'Open', 'High', 'Low', 'Close', 'Volume']\n",
    "\n",
    "Total_buy_time_empty = 0\n",
    "Total_sell_time_empty = 0\n",
    "import time\n",
    "start = time.time()\n",
    "\n",
    "idx = 0\n",
    "while from_timestamp < to_timestamp:\n",
    "    try:\n",
    "        ohlcvs = exchange.fetch_ohlcv(symbol, timewindow, from_timestamp, limit=1)\n",
    "        \n",
    "        # 1 group of trade is:\n",
    "        t = exchange.fetch_trades(symbol=symbol, since=from_timestamp)\n",
    "        buy_amount_list = []\n",
    "        sell_amount_list = []\n",
    "        price_list = []\n",
    "        cost_list = []\n",
    "        for trade in t:\n",
    "            if trade.get('side') == 'buy':\n",
    "                buy_amount_list.append(trade.get('amount'))\n",
    "\n",
    "            elif trade.get('side') == 'sell':\n",
    "                sell_amount_list.append(trade.get('amount'))\n",
    "            \n",
    "            price_list.append(trade.get('price'))\n",
    "            cost_list.append(trade.get('cost'))\n",
    "            \n",
    "\n",
    "#         assert buy_amount_list != None, print('Not having any buy')\n",
    "#         assert sell_amount_list != None, print('Not having any sell')\n",
    "        if buy_amount_list == []:\n",
    "            print('Not having any buyer')\n",
    "            Total_buy_time_empty +=1\n",
    "            buy_amount_list = [-1.0]\n",
    "            \n",
    "        if sell_amount_list == []:\n",
    "            print('Not having any sell')\n",
    "            Total_sell_time_empty +=1\n",
    "            buy_amount_list = [-1.0]\n",
    "            \n",
    "        if price_list == []:\n",
    "            price_list = [-1.0]\n",
    "            \n",
    "        if cost_list == []:\n",
    "            cost_list = [-1.0]\n",
    "\n",
    "        buy_amount_np = np.array(buy_amount_list)\n",
    "        sell_amount_np = np.array(sell_amount_list)\n",
    "        price_np = np.array(price_list)\n",
    "        cost_np = np.array(cost_list)\n",
    "            \n",
    "        df_current = pd.DataFrame(ohlcvs, columns=header)\n",
    "                \n",
    "        df_current['N_buy'] = len(buy_amount_np)\n",
    "        df_current['N_sell'] = len(sell_amount_list)\n",
    "        df_current['buy_amount_avg'] = np.mean(buy_amount_np)\n",
    "        df_current['sell_amount_avg'] = np.mean(sell_amount_np)\n",
    "        df_current['buy_amount_std'] = np.std(buy_amount_np)\n",
    "        df_current['sell_amount_std'] = np.std(sell_amount_np)\n",
    " \n",
    "        df_current['price_avg'] = np.mean(price_np)\n",
    "        df_current['price_std'] = np.std(price_np)\n",
    "        \n",
    "        df_current['cost_avg'] = np.mean(cost_np)\n",
    "        df_current['cost_std'] = np.std(cost_np)\n",
    "#         df = df.append(df_current, ignore_index=True)\n",
    "\n",
    "#         df_array.append(df_current.values[0])\n",
    "    \n",
    "        np_df[idx] =df_current.values[0]\n",
    "        idx += 1\n",
    "\n",
    "#         print(exchange.milliseconds(), 'Fetched', len(ohlcvs), 'candles')\n",
    "        if len(ohlcvs) > 0:\n",
    "            first = ohlcvs[0][0]\n",
    "            last = ohlcvs[-1][0]\n",
    "#             print('First candle epoch', first, exchange.iso8601(first))\n",
    "\n",
    "            from_timestamp = ohlcvs[-1][0] + offset\n",
    "            # v = ohlcvs[0][0]/ 1000\n",
    "            # !date --date @{v} +\"%Y-%m-%d %H:%M\"\n",
    "            print('Last candle epoch', last, exchange.iso8601(last))\n",
    "        else:\n",
    "            break\n",
    "\n",
    "    except (ccxt.ExchangeError, ccxt.AuthenticationError, ccxt.ExchangeNotAvailable, ccxt.RequestTimeout) as error:\n",
    "        print('Got an error', type(error).__name__,\n",
    "              error.args, ', retrying in', offset, 'seconds...')\n",
    "        \n",
    "done = time.time()\n",
    "elapsed = done - start\n",
    "print(elapsed)"
   ]
  },
  {
   "cell_type": "code",
   "execution_count": null,
   "metadata": {},
   "outputs": [],
   "source": [
    "output_file = '{}/data/ccxt/{}_{}_{}.csv'.format(home_path,symbol_, market, timewindow)"
   ]
  },
  {
   "cell_type": "code",
   "execution_count": null,
   "metadata": {},
   "outputs": [],
   "source": [
    "full_header = ['Timestamp', 'Open', 'High', 'Low', 'Close', 'Volume','N_buy','N_sell','buy_amount_avg','sell_amount_avg','buy_amount_std','sell_amount_std','price_avg','price_std','cost_avg','cost_std']"
   ]
  },
  {
   "cell_type": "code",
   "execution_count": null,
   "metadata": {},
   "outputs": [],
   "source": [
    "df = pd.DataFrame(np_df, columns = full_header )"
   ]
  },
  {
   "cell_type": "code",
   "execution_count": null,
   "metadata": {
    "scrolled": false
   },
   "outputs": [],
   "source": [
    "print(df.shape)"
   ]
  },
  {
   "cell_type": "code",
   "execution_count": null,
   "metadata": {},
   "outputs": [],
   "source": [
    "output_file = '{}/data/ccxt/extra/raw_{}_{}_{}.csv'.format(home_path,symbol_, market, timewindow)\n",
    "print(output_file)\n",
    "df.to_csv(output_file)"
   ]
  },
  {
   "cell_type": "code",
   "execution_count": null,
   "metadata": {},
   "outputs": [],
   "source": [
    "df = df.dropna()\n",
    "print(df.shape)"
   ]
  },
  {
   "cell_type": "code",
   "execution_count": null,
   "metadata": {},
   "outputs": [],
   "source": [
    "# df['MA_Close_240'] = df.rolling(240).mean().Close"
   ]
  },
  {
   "cell_type": "code",
   "execution_count": null,
   "metadata": {},
   "outputs": [],
   "source": [
    "output_file = '{}/data/ccxt/extra/{}_{}_{}.csv'.format(home_path,symbol_, market, timewindow)\n",
    "print(output_file)"
   ]
  },
  {
   "cell_type": "code",
   "execution_count": null,
   "metadata": {},
   "outputs": [],
   "source": [
    "df.to_csv(output_file, index = None)"
   ]
  },
  {
   "cell_type": "code",
   "execution_count": null,
   "metadata": {},
   "outputs": [],
   "source": [
    "289197 / 3600"
   ]
  }
 ],
 "metadata": {
  "kernelspec": {
   "display_name": "Python 3",
   "language": "python",
   "name": "python3"
  },
  "language_info": {
   "codemirror_mode": {
    "name": "ipython",
    "version": 3
   },
   "file_extension": ".py",
   "mimetype": "text/x-python",
   "name": "python",
   "nbconvert_exporter": "python",
   "pygments_lexer": "ipython3",
   "version": "3.6.8"
  }
 },
 "nbformat": 4,
 "nbformat_minor": 2
}

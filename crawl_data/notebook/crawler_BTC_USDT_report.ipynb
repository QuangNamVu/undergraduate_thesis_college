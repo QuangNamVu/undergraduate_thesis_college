{
 "cells": [
  {
   "cell_type": "code",
   "execution_count": 1,
   "metadata": {},
   "outputs": [],
   "source": [
    "import ccxt\n",
    "import time\n",
    "import os\n",
    "import datetime\n",
    "import pandas as pd\n",
    "\n",
    "msec = 1000\n",
    "minute = 60 * msec\n",
    "hour = 60 * minute\n",
    "\n",
    "symbol = 'BTC/USDT'\n",
    "symbol_ = 'BTC_USDT'\n",
    "market = 'binance'\n",
    "timewindow = '1h'\n",
    "\n",
    "if timewindow == '1h':\n",
    "    offset = hour\n",
    "    delay = offset / 1000\n",
    "elif timewindow == '1m':\n",
    "    offset = minute\n",
    "    delay = offset / 1000"
   ]
  },
  {
   "cell_type": "code",
   "execution_count": 2,
   "metadata": {},
   "outputs": [],
   "source": [
    "def get_file_contents(filename):\n",
    "    try:\n",
    "        with open(filename, 'r') as f:\n",
    "            return f.read().strip()\n",
    "    except FileNotFoundError:\n",
    "        print(\"'%s' file not found\" % filename)\n",
    "\n",
    "\n",
    "binance = ccxt.binance()\n",
    "home_path = os.path.expanduser(\"~\")\n",
    "binance.apiKey = get_file_contents(home_path + '/api_key/binance/pub')\n",
    "binance.secret = get_file_contents(home_path + '/api_key/binance/private')"
   ]
  },
  {
   "cell_type": "code",
   "execution_count": 3,
   "metadata": {},
   "outputs": [],
   "source": [
    "binance = ccxt.binance({\n",
    "    'apiKey': binance.apiKey,\n",
    "    'secret': binance.secret,\n",
    "})\n",
    "exchange = binance"
   ]
  },
  {
   "cell_type": "code",
   "execution_count": 4,
   "metadata": {},
   "outputs": [],
   "source": [
    "from_datetime = '2019-09-29 12:00:00'\n",
    "from_timestamp = exchange.parse8601(from_datetime)"
   ]
  },
  {
   "cell_type": "code",
   "execution_count": 5,
   "metadata": {},
   "outputs": [],
   "source": [
    "t = exchange.fetch_trades(symbol=symbol, since=from_timestamp)"
   ]
  },
  {
   "cell_type": "code",
   "execution_count": 6,
   "metadata": {},
   "outputs": [
    {
     "data": {
      "text/plain": [
       "{'info': {'a': 166647503,\n",
       "  'p': '8073.86000000',\n",
       "  'q': '0.02810800',\n",
       "  'f': 184419896,\n",
       "  'l': 184419896,\n",
       "  'T': 1569758400471,\n",
       "  'm': True,\n",
       "  'M': True},\n",
       " 'timestamp': 1569758400471,\n",
       " 'datetime': '2019-09-29T12:00:00.471Z',\n",
       " 'symbol': 'BTC/USDT',\n",
       " 'id': '166647503',\n",
       " 'order': None,\n",
       " 'type': None,\n",
       " 'takerOrMaker': None,\n",
       " 'side': 'sell',\n",
       " 'price': 8073.86,\n",
       " 'amount': 0.028108,\n",
       " 'cost': 226.94005688,\n",
       " 'fee': None}"
      ]
     },
     "execution_count": 6,
     "metadata": {},
     "output_type": "execute_result"
    }
   ],
   "source": [
    "t[0]"
   ]
  },
  {
   "cell_type": "code",
   "execution_count": 16,
   "metadata": {},
   "outputs": [
    {
     "data": {
      "text/plain": [
       "8073.86"
      ]
     },
     "execution_count": 16,
     "metadata": {},
     "output_type": "execute_result"
    }
   ],
   "source": [
    "t[0].get('price')"
   ]
  },
  {
   "cell_type": "code",
   "execution_count": 17,
   "metadata": {},
   "outputs": [
    {
     "data": {
      "text/plain": [
       "8074.05"
      ]
     },
     "execution_count": 17,
     "metadata": {},
     "output_type": "execute_result"
    }
   ],
   "source": [
    "t[1].get('price')"
   ]
  },
  {
   "cell_type": "code",
   "execution_count": 7,
   "metadata": {},
   "outputs": [
    {
     "data": {
      "text/html": [
       "<div>\n",
       "<table border=\"1\" class=\"dataframe\">\n",
       "  <thead>\n",
       "    <tr style=\"text-align: right;\">\n",
       "      <th></th>\n",
       "      <th>ts</th>\n",
       "      <th>Open</th>\n",
       "      <th>High</th>\n",
       "      <th>Low</th>\n",
       "      <th>Close</th>\n",
       "      <th>Volume</th>\n",
       "    </tr>\n",
       "  </thead>\n",
       "  <tbody>\n",
       "    <tr>\n",
       "      <th>0</th>\n",
       "      <td>1569758400000</td>\n",
       "      <td>8073.86</td>\n",
       "      <td>8078.0</td>\n",
       "      <td>7908.08</td>\n",
       "      <td>7995.96</td>\n",
       "      <td>4237.052032</td>\n",
       "    </tr>\n",
       "    <tr>\n",
       "      <th>1</th>\n",
       "      <td>1569762000000</td>\n",
       "      <td>7995.02</td>\n",
       "      <td>8050.0</td>\n",
       "      <td>7965.43</td>\n",
       "      <td>7995.67</td>\n",
       "      <td>1675.788207</td>\n",
       "    </tr>\n",
       "    <tr>\n",
       "      <th>2</th>\n",
       "      <td>1569765600000</td>\n",
       "      <td>7996.23</td>\n",
       "      <td>8039.0</td>\n",
       "      <td>7963.36</td>\n",
       "      <td>7971.15</td>\n",
       "      <td>1054.711486</td>\n",
       "    </tr>\n",
       "    <tr>\n",
       "      <th>3</th>\n",
       "      <td>1569769200000</td>\n",
       "      <td>7969.31</td>\n",
       "      <td>7990.0</td>\n",
       "      <td>7890.00</td>\n",
       "      <td>7965.57</td>\n",
       "      <td>2058.778764</td>\n",
       "    </tr>\n",
       "    <tr>\n",
       "      <th>4</th>\n",
       "      <td>1569772800000</td>\n",
       "      <td>7965.56</td>\n",
       "      <td>8035.0</td>\n",
       "      <td>7926.37</td>\n",
       "      <td>8030.75</td>\n",
       "      <td>1942.000863</td>\n",
       "    </tr>\n",
       "  </tbody>\n",
       "</table>\n",
       "</div>"
      ],
      "text/plain": [
       "              ts     Open    High      Low    Close       Volume\n",
       "0  1569758400000  8073.86  8078.0  7908.08  7995.96  4237.052032\n",
       "1  1569762000000  7995.02  8050.0  7965.43  7995.67  1675.788207\n",
       "2  1569765600000  7996.23  8039.0  7963.36  7971.15  1054.711486\n",
       "3  1569769200000  7969.31  7990.0  7890.00  7965.57  2058.778764\n",
       "4  1569772800000  7965.56  8035.0  7926.37  8030.75  1942.000863"
      ]
     },
     "execution_count": 7,
     "metadata": {},
     "output_type": "execute_result"
    }
   ],
   "source": [
    "ohlcvs = exchange.fetch_ohlcv(symbol, timewindow, from_timestamp, limit=5)\n",
    "df_ohlcvs = pd.DataFrame(ohlcvs, columns=['ts','Open', 'High', 'Low', 'Close', 'Volume'])\n",
    "df_ohlcvs"
   ]
  },
  {
   "cell_type": "code",
   "execution_count": 8,
   "metadata": {},
   "outputs": [],
   "source": [
    "ohlcvs = exchange.fetch_ohlcv(symbol, timewindow, from_timestamp) #, limit=1)"
   ]
  },
  {
   "cell_type": "code",
   "execution_count": 9,
   "metadata": {},
   "outputs": [],
   "source": [
    "        # aggregate trades\n",
    "        #\n",
    "        #     [\n",
    "        #         {\n",
    "        #             \"a\": 26129,         # Aggregate tradeId\n",
    "        #             \"p\": \"0.01633102\",  # Price\n",
    "        #             \"q\": \"4.70443515\",  # Quantity\n",
    "        #             \"f\": 27781,         # First tradeId\n",
    "        #             \"l\": 27781,         # Last tradeId\n",
    "        #             \"T\": 1498793709153,  # Timestamp\n",
    "        #             \"m\": True,          # Was the buyer the maker?\n",
    "        #             \"M\": True           # Was the trade the best price match?\n",
    "        #         }\n",
    "        #     ]\n",
    "        #"
   ]
  },
  {
   "cell_type": "code",
   "execution_count": 10,
   "metadata": {},
   "outputs": [
    {
     "data": {
      "text/plain": [
       "{'info': {'a': 166647503,\n",
       "  'p': '8073.86000000',\n",
       "  'q': '0.02810800',\n",
       "  'f': 184419896,\n",
       "  'l': 184419896,\n",
       "  'T': 1569758400471,\n",
       "  'm': True,\n",
       "  'M': True},\n",
       " 'timestamp': 1569758400471,\n",
       " 'datetime': '2019-09-29T12:00:00.471Z',\n",
       " 'symbol': 'BTC/USDT',\n",
       " 'id': '166647503',\n",
       " 'order': None,\n",
       " 'type': None,\n",
       " 'takerOrMaker': None,\n",
       " 'side': 'sell',\n",
       " 'price': 8073.86,\n",
       " 'amount': 0.028108,\n",
       " 'cost': 226.94005688,\n",
       " 'fee': None}"
      ]
     },
     "execution_count": 10,
     "metadata": {},
     "output_type": "execute_result"
    }
   ],
   "source": [
    "t[0]"
   ]
  },
  {
   "cell_type": "code",
   "execution_count": null,
   "metadata": {},
   "outputs": [],
   "source": []
  },
  {
   "cell_type": "code",
   "execution_count": 11,
   "metadata": {},
   "outputs": [
    {
     "data": {
      "text/plain": [
       "'sell'"
      ]
     },
     "execution_count": 11,
     "metadata": {},
     "output_type": "execute_result"
    }
   ],
   "source": [
    "t[0].get('side')"
   ]
  },
  {
   "cell_type": "code",
   "execution_count": 12,
   "metadata": {},
   "outputs": [
    {
     "data": {
      "text/plain": [
       "11218"
      ]
     },
     "execution_count": 12,
     "metadata": {},
     "output_type": "execute_result"
    }
   ],
   "source": [
    "N_buy = sum(x.get('side') == 'buy' for x in t)\n",
    "N_buy"
   ]
  },
  {
   "cell_type": "code",
   "execution_count": 13,
   "metadata": {},
   "outputs": [
    {
     "data": {
      "text/plain": [
       "14716"
      ]
     },
     "execution_count": 13,
     "metadata": {},
     "output_type": "execute_result"
    }
   ],
   "source": [
    "N_sell = sum(x.get('side') == 'sell' for x in t)\n",
    "N_sell"
   ]
  },
  {
   "cell_type": "code",
   "execution_count": 14,
   "metadata": {},
   "outputs": [
    {
     "data": {
      "text/plain": [
       "1534.1363219999919"
      ]
     },
     "execution_count": 14,
     "metadata": {},
     "output_type": "execute_result"
    }
   ],
   "source": [
    "amount_buy = sum(x.get('amount') if x.get('side') == 'buy' else 0.0 for x in t)\n",
    "amount_buy"
   ]
  },
  {
   "cell_type": "code",
   "execution_count": 15,
   "metadata": {},
   "outputs": [
    {
     "data": {
      "text/plain": [
       "2702.9157099999807"
      ]
     },
     "execution_count": 15,
     "metadata": {},
     "output_type": "execute_result"
    }
   ],
   "source": [
    "amount_sell = sum(x.get('amount') if x.get('side') == 'sell' else 0.0 for x in t)\n",
    "amount_sell"
   ]
  }
 ],
 "metadata": {
  "kernelspec": {
   "display_name": "Python 3",
   "language": "python",
   "name": "python3"
  },
  "language_info": {
   "codemirror_mode": {
    "name": "ipython",
    "version": 3
   },
   "file_extension": ".py",
   "mimetype": "text/x-python",
   "name": "python",
   "nbconvert_exporter": "python",
   "pygments_lexer": "ipython3",
   "version": "3.6.8"
  }
 },
 "nbformat": 4,
 "nbformat_minor": 2
}

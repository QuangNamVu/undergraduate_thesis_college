{
 "cells": [
  {
   "cell_type": "code",
   "execution_count": 1,
   "metadata": {},
   "outputs": [],
   "source": [
    "import numpy as np\n",
    "import pandas as pd\n",
    "import os"
   ]
  },
  {
   "cell_type": "code",
   "execution_count": 2,
   "metadata": {},
   "outputs": [],
   "source": [
    "symbol_dict = [['BTC', 'USDT'], ['ETH', 'BTC'], ['ETH', 'USDT'],\\\n",
    "               ['BNB','USDT'],['BNB', 'BTC'],['BNB', 'ETH']\n",
    "              ]\n",
    "coin_dict = {'USDT':0, 'BTC':1, 'ETH':2, 'BNB':3}\n",
    "\n",
    "N = len(coin_dict)"
   ]
  },
  {
   "cell_type": "code",
   "execution_count": 3,
   "metadata": {},
   "outputs": [],
   "source": [
    "market = 'binance'\n",
    "timewindow = '1h'"
   ]
  },
  {
   "cell_type": "code",
   "execution_count": 4,
   "metadata": {},
   "outputs": [
    {
     "ename": "SyntaxError",
     "evalue": "invalid syntax (<ipython-input-4-5ad4ea13f86d>, line 30)",
     "output_type": "error",
     "traceback": [
      "\u001b[0;36m  File \u001b[0;32m\"<ipython-input-4-5ad4ea13f86d>\"\u001b[0;36m, line \u001b[0;32m30\u001b[0m\n\u001b[0;31m    If we can still relax edges, then we have a negative cycle\u001b[0m\n\u001b[0m        ^\u001b[0m\n\u001b[0;31mSyntaxError\u001b[0m\u001b[0;31m:\u001b[0m invalid syntax\n"
     ]
    }
   ],
   "source": [
    "from math import log\n",
    "\n",
    "# fee = .075 / 100\n",
    "EPSILON = 1e-20\n",
    "fee = .1/100\n",
    "\n",
    "def arbitrage(price_matrix):\n",
    "    # min_log should be negative\n",
    "    global min_log, min_log\n",
    "    transformed_graph = [[-(log(edge) + log(1.0 - fee)) for edge in row] for row in price_matrix]\n",
    "    min_log = np.min(transformed_graph)\n",
    "#     transformed_graph = np.add(transformed_graph, - min_log)\n",
    "\n",
    "    # Pick any source vertex -- we can run Bellman-Ford from any vertex and\n",
    "    # get the right result\n",
    "    source = 0\n",
    "    n = len(transformed_graph)\n",
    "    min_dist = [float('inf')] * n\n",
    "\n",
    "#     min_dist[source] = - 4 * min_log\n",
    "    min_dist[source] = 0\n",
    "\n",
    "    # Relax edges |V - 1| times\n",
    "    for i in range(n - 1):\n",
    "        for v in range(n):\n",
    "            for w in range(n):\n",
    "                if min_dist[w] > min_dist[v] + transformed_graph[v][w]:\n",
    "                    min_dist[w] = min_dist[v] + transformed_graph[v][w]\n",
    "\n",
    "#     If we can still relax edges, then we have a negative cycle\n",
    "    for v in range(n):\n",
    "        for w in range(n):\n",
    "            if min_dist[w] > min_dist[v] + transformed_graph[v][w]:\n",
    "                return True\n",
    "\n",
    "#     if min_dist[source] < - min_log:\n",
    "#         return True\n",
    "\n",
    "    return False"
   ]
  },
  {
   "cell_type": "code",
   "execution_count": null,
   "metadata": {},
   "outputs": [],
   "source": [
    "data_path = '/home/nam/data/ccxt/'"
   ]
  },
  {
   "cell_type": "code",
   "execution_count": null,
   "metadata": {},
   "outputs": [],
   "source": [
    "# Load all csv data in list of Dataframe"
   ]
  },
  {
   "cell_type": "code",
   "execution_count": null,
   "metadata": {},
   "outputs": [],
   "source": [
    "from __future__ import division"
   ]
  },
  {
   "cell_type": "code",
   "execution_count": null,
   "metadata": {},
   "outputs": [],
   "source": [
    "list_np = [[ None for y in range(N)] for x in range(N)]\n",
    "\n",
    "for A, B in symbol_dict:\n",
    "    print(A, B)\n",
    "    \n",
    "    home_path = os.path.expanduser(\"~\")\n",
    "\n",
    "    file_name = '{}/data/ccxt/{}_{}_{}_{}.csv'.format(home_path, A, B, market, timewindow)\n",
    "    if not os.path.exists(file_name):\n",
    "        continue\n",
    "    \n",
    "    df = pd.read_csv(file_name)\n",
    "    df['Price'] = df.Close\n",
    "    print(df.shape)\n",
    "    \n",
    "    A_idx = coin_dict.get(A)\n",
    "    B_idx = coin_dict.get(B)\n",
    "    \n",
    "    list_np[A_idx][B_idx] = df[['Timestamp', 'Price']].values\n",
    "\n",
    "    list_np[B_idx][A_idx] = np.copy(list_np[A_idx][B_idx])\n",
    "    list_np[B_idx][A_idx][:,1] = 1.0 / list_np[A_idx][B_idx][:,1]"
   ]
  },
  {
   "cell_type": "code",
   "execution_count": null,
   "metadata": {},
   "outputs": [],
   "source": [
    "# def load_weight(list_df, ts)"
   ]
  },
  {
   "cell_type": "code",
   "execution_count": null,
   "metadata": {},
   "outputs": [],
   "source": [
    "price_matrix = [[ None for y in range(N)] for x in range(N)]\n",
    "\n",
    "def search_ts_to_matrix(ts, list_np = list_np):\n",
    "    global price_matrix, EPSILON, min_log\n",
    "    for row in range(N):\n",
    "        for col in range(N):\n",
    "            if row == col or list_np[row][col] is None:\n",
    "\n",
    "#                 price_matrix[row][col] = float('inf')\n",
    "                price_matrix[row][col] = 1.0\n",
    "                continue\n",
    "#             assert np.isin(ts, list_np[row][col][:, 0]), print('timestamp not found')\n",
    "            if not np.isin(ts, list_np[row][col][:, 0]):\n",
    "#                 print('timestamp not found: {}'.format(ts))\n",
    "                price_matrix[row][col] = EPSILON\n",
    "                return True\n",
    "#                 return False\n",
    "            row_idx = np.where(list_np[row][col][:, 0] == ts)[0][0]\n",
    "            value_ratio = list_np[row][col][row_idx, 1]\n",
    "            price_matrix[row][col] = value_ratio\n",
    "            \n",
    "    return True"
   ]
  },
  {
   "cell_type": "code",
   "execution_count": null,
   "metadata": {},
   "outputs": [],
   "source": [
    "np_0 = list_np[0][1]\n",
    "total_neg_cycle = 0\n",
    "\n",
    "time_cycle_arbitrage = []\n",
    "\n",
    "transformed_graph = [[ None for y in range(N)] for x in range(N)]\n",
    "for t in np_0[:,0]:\n",
    "    print(t)\n",
    "    if search_ts_to_matrix(t, list_np=list_np):\n",
    "        rs = arbitrage(price_matrix)\n",
    "        if rs:\n",
    "            time_cycle_arbitrage.append(t)\n",
    "        total_neg_cycle += rs\n",
    "\n",
    "print(total_neg_cycle)\n",
    "print(time_cycle_arbitrage)"
   ]
  },
  {
   "cell_type": "code",
   "execution_count": null,
   "metadata": {
    "scrolled": true
   },
   "outputs": [],
   "source": [
    "time_cycle_arbitrage"
   ]
  },
  {
   "cell_type": "code",
   "execution_count": null,
   "metadata": {
    "scrolled": true
   },
   "outputs": [],
   "source": [
    "ts = time_cycle_arbitrage[1]\n",
    "search_ts_to_matrix(ts = ts)\n",
    "price_matrix"
   ]
  },
  {
   "cell_type": "code",
   "execution_count": null,
   "metadata": {},
   "outputs": [],
   "source": [
    "coin_dict = {'USDT':0, 'BTC':1, 'ETH':2}\n",
    "USDT = coin_dict.get('USDT')\n",
    "BTC = coin_dict.get('BTC')\n",
    "ETH = coin_dict.get('ETH')"
   ]
  },
  {
   "cell_type": "code",
   "execution_count": null,
   "metadata": {},
   "outputs": [],
   "source": [
    "table = price_matrix"
   ]
  },
  {
   "cell_type": "code",
   "execution_count": null,
   "metadata": {},
   "outputs": [],
   "source": [
    "table[USDT][BTC] * (1 - fee) * table[BTC][ETH] * (1 - fee) * table[ETH][USDT] * (1 - fee)"
   ]
  },
  {
   "cell_type": "code",
   "execution_count": null,
   "metadata": {},
   "outputs": [],
   "source": [
    "table[USDT][ETH] * (1 - fee) * table[ETH][BTC] * (1 - fee) * table[BTC][USDT] * (1 - fee)"
   ]
  },
  {
   "cell_type": "code",
   "execution_count": null,
   "metadata": {},
   "outputs": [],
   "source": [
    "len(time_cycle_arbitrage)"
   ]
  }
 ],
 "metadata": {
  "kernelspec": {
   "display_name": "Python 3",
   "language": "python",
   "name": "python3"
  },
  "language_info": {
   "codemirror_mode": {
    "name": "ipython",
    "version": 3
   },
   "file_extension": ".py",
   "mimetype": "text/x-python",
   "name": "python",
   "nbconvert_exporter": "python",
   "pygments_lexer": "ipython3",
   "version": "3.6.8"
  }
 },
 "nbformat": 4,
 "nbformat_minor": 2
}

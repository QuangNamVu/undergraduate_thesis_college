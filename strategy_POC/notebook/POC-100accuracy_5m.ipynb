{
 "cells": [
  {
   "cell_type": "code",
   "execution_count": 2,
   "metadata": {},
   "outputs": [],
   "source": [
    "import matplotlib.pyplot as plt\n",
    "import numpy as np\n",
    "from decimal import Decimal"
   ]
  },
  {
   "cell_type": "code",
   "execution_count": 3,
   "metadata": {},
   "outputs": [],
   "source": [
    "# BTC fund amount\n",
    "A_FUND_AMOUNT = Decimal('1.0')\n",
    "# USDT fund amount\n",
    "B_FUND_AMOUNT = Decimal('0.0')\n",
    "\n",
    "# fee in real:\n",
    "FREE_REAL = Decimal('.01')\n",
    "\n",
    "A_LIMIT = Decimal('.000001')\n",
    "B_LIMIT = Decimal('.01')\n",
    "\n",
    "A_FUND_AMOUNT_LIST = []\n",
    "B_FUND_AMOUNT_LIST = []\n",
    "PRICE_LIST = []"
   ]
  },
  {
   "cell_type": "code",
   "execution_count": 4,
   "metadata": {},
   "outputs": [],
   "source": [
    "def buy():\n",
    "    global PRICE, A_FUND_AMOUNT, B_FUND_AMOUNT, FREE_REAL\n",
    "    # buy A sell B:\n",
    "#     print(\"buy with price {}\".format(PRICE))\n",
    "    sell_amount_B = B_FUND_AMOUNT - (B_FUND_AMOUNT % B_LIMIT)\n",
    "    \n",
    "    cost = (sell_amount_B * FREE_REAL) / PRICE\n",
    "\n",
    "    B_FUND_AMOUNT -= sell_amount_B\n",
    "    A_FUND_AMOUNT += (sell_amount_B / PRICE - cost)"
   ]
  },
  {
   "cell_type": "code",
   "execution_count": 5,
   "metadata": {},
   "outputs": [],
   "source": [
    "def sell():\n",
    "    global PRICE, A_FUND_AMOUNT, B_FUND_AMOUNT, FREE_REAL\n",
    "    # buy B sell A:\n",
    "#     print(\"sell with price {}\".format(PRICE))\n",
    "    sell_amount_A = A_FUND_AMOUNT - (A_FUND_AMOUNT % A_LIMIT)\n",
    "\n",
    "    cost = sell_amount_A * FREE_REAL * PRICE\n",
    "\n",
    "    A_FUND_AMOUNT -= sell_amount_A\n",
    "    B_FUND_AMOUNT += (sell_amount_A * PRICE - cost)"
   ]
  },
  {
   "cell_type": "markdown",
   "metadata": {},
   "source": [
    "# Visualized data"
   ]
  },
  {
   "cell_type": "code",
   "execution_count": 6,
   "metadata": {},
   "outputs": [],
   "source": [
    "test_file = '/home/nam/data/ccxt/preprocessing_data/BTC_USDT_binance_5m.csv'"
   ]
  },
  {
   "cell_type": "code",
   "execution_count": 7,
   "metadata": {
    "scrolled": true
   },
   "outputs": [],
   "source": [
    "import pandas as pd\n",
    "df = pd.read_csv(test_file)\n",
    "df_close = df.Close"
   ]
  },
  {
   "cell_type": "code",
   "execution_count": 8,
   "metadata": {},
   "outputs": [
    {
     "data": {
      "image/png": "[encoded data removed]",
      "text/plain": [
       "<Figure size 432x288 with 1 Axes>"
      ]
     },
     "metadata": {
      "needs_background": "light"
     },
     "output_type": "display_data"
    }
   ],
   "source": [
    "plt.plot(df_close, label='Giá đóng phiên')\n",
    "plt.legend()\n",
    "plt.show()"
   ]
  },
  {
   "cell_type": "code",
   "execution_count": 9,
   "metadata": {},
   "outputs": [],
   "source": [
    "def strategy_01_current_price(threshold = 0.01):\n",
    "    fee_assume = Decimal(threshold)\n",
    "    global PRICE, A_FUND_AMOUNT, B_FUND_AMOUNT, Close_lst, Ts_lst\n",
    "    global A_FUND_AMOUNT_LIST, B_FUND_AMOUNT_LIST, PRICE_LIST, SELL_TS, SELL_PRICE, BUY_TS, BUY_PRICE\n",
    "    A_FUND_AMOUNT = Decimal('1.0')\n",
    "    B_FUND_AMOUNT = Decimal('0.0')\n",
    "    A_FUND_AMOUNT_LIST = []\n",
    "    B_FUND_AMOUNT_LIST = []\n",
    "    \n",
    "    PRICE_LIST = []\n",
    "    SELL_TS = []; BUY_TS = []; SELL_PRICE = []; BUY_PRICE = []\n",
    "    PRICE = Decimal(str(Close_lst[0]))\n",
    "    PREV_SIDE = 'buy'\n",
    "    for NEW_PRICE, ts in zip(Close_lst[1:], Ts_lst[1:]):\n",
    "        NEW_PRICE = Decimal(str(NEW_PRICE))\n",
    "        if NEW_PRICE > PRICE / (Decimal('1.0') - fee_assume) and PREV_SIDE == 'buy':\n",
    "            PRICE = NEW_PRICE\n",
    "            sell()\n",
    "\n",
    "            PREV_SIDE = 'sell'\n",
    "            PRICE_LIST.append(PRICE)\n",
    "            SELL_TS.append(ts)\n",
    "            SELL_PRICE.append(PRICE)\n",
    "            A_FUND_AMOUNT_LIST.append(A_FUND_AMOUNT)\n",
    "            B_FUND_AMOUNT_LIST.append(B_FUND_AMOUNT)\n",
    "            \n",
    "\n",
    "        elif NEW_PRICE < PRICE * (Decimal('1.0') - fee_assume) and PREV_SIDE == 'sell':\n",
    "            PRICE = NEW_PRICE\n",
    "            buy()\n",
    "\n",
    "            PREV_SIDE = 'buy'\n",
    "            PRICE_LIST.append(PRICE)\n",
    "            BUY_TS.append(ts)\n",
    "            BUY_PRICE.append(PRICE)\n",
    "            A_FUND_AMOUNT_LIST.append(A_FUND_AMOUNT)\n",
    "            B_FUND_AMOUNT_LIST.append(B_FUND_AMOUNT)\n",
    "\n",
    "\n",
    "    print(\"Number of trade: \", len(A_FUND_AMOUNT_LIST))\n",
    "\n",
    "    print(A_FUND_AMOUNT, \"  BTC\")\n",
    "    print(B_FUND_AMOUNT, \"  USDT\")\n",
    "\n",
    "    print(\"Init amount USDT is \", Decimal('1.0') *\n",
    "          Decimal(Close_lst[0]), \"  USDT\")\n",
    "    \n",
    "    balance = A_FUND_AMOUNT * Decimal(Close_lst[-1]) + B_FUND_AMOUNT\n",
    "    print(\"Last amount USDT is \", balance , \"  USDT\")\n",
    "    return balance"
   ]
  },
  {
   "cell_type": "markdown",
   "metadata": {},
   "source": [
    "# Simulate: If know exactly next price in future"
   ]
  },
  {
   "cell_type": "code",
   "execution_count": 10,
   "metadata": {},
   "outputs": [],
   "source": [
    "def strategy_01_future_price(threshold = 0.01):\n",
    "    fee_assume = Decimal(threshold)\n",
    "    global PRICE, A_FUND_AMOUNT, B_FUND_AMOUNT, Close_lst, Ts_lst\n",
    "    global A_FUND_AMOUNT_LIST, B_FUND_AMOUNT_LIST, PRICE_LIST, SELL_TS, SELL_PRICE, BUY_TS, BUY_PRICE\n",
    "    A_FUND_AMOUNT = Decimal('1.0')\n",
    "    B_FUND_AMOUNT = Decimal('0.0')\n",
    "    A_FUND_AMOUNT_LIST = []\n",
    "    B_FUND_AMOUNT_LIST = []\n",
    "    \n",
    "    PRICE_LIST = []\n",
    "    SELL_TS = []; BUY_TS = []; SELL_PRICE = []; BUY_PRICE = []\n",
    "    PRICE = Decimal(str(Close_lst[0]))\n",
    "    PREV_SIDE = 'buy'\n",
    "    for NEW_PRICE, ts, FUTURE_PRICE in zip(Close_lst[1:-1], Ts_lst[1:-1], Close_lst[2:]):\n",
    "        NEW_PRICE = Decimal(str(NEW_PRICE))\n",
    "        FUTURE_PRICE = Decimal(str(FUTURE_PRICE))\n",
    "        if NEW_PRICE > PRICE / (Decimal('1.0') - fee_assume) and FUTURE_PRICE < NEW_PRICE and PREV_SIDE == 'buy':\n",
    "            PRICE = NEW_PRICE\n",
    "            sell()\n",
    "\n",
    "            PREV_SIDE = 'sell'\n",
    "            PRICE_LIST.append(PRICE)\n",
    "            SELL_TS.append(ts)\n",
    "            SELL_PRICE.append(PRICE)\n",
    "            A_FUND_AMOUNT_LIST.append(A_FUND_AMOUNT)\n",
    "            B_FUND_AMOUNT_LIST.append(B_FUND_AMOUNT)\n",
    "            \n",
    "\n",
    "        elif NEW_PRICE < PRICE * (Decimal('1.0') - fee_assume) and FUTURE_PRICE > NEW_PRICE and PREV_SIDE == 'sell':\n",
    "            PRICE = NEW_PRICE\n",
    "            buy()\n",
    "\n",
    "            PREV_SIDE = 'buy'\n",
    "            PRICE_LIST.append(PRICE)\n",
    "            BUY_TS.append(ts)\n",
    "            BUY_PRICE.append(PRICE)\n",
    "            A_FUND_AMOUNT_LIST.append(A_FUND_AMOUNT)\n",
    "            B_FUND_AMOUNT_LIST.append(B_FUND_AMOUNT)\n",
    "\n",
    "\n",
    "    print(\"Number of trade: \", len(A_FUND_AMOUNT_LIST))\n",
    "\n",
    "    print(A_FUND_AMOUNT, \"  BTC\")\n",
    "    print(B_FUND_AMOUNT, \"  USDT\")\n",
    "\n",
    "    \n",
    "    print(\"Init amount USDT is \", Decimal('1.0') *\n",
    "          Decimal(Close_lst[0]), \"  USDT\")\n",
    "    \n",
    "    balance = A_FUND_AMOUNT * Decimal(Close_lst[-1]) + B_FUND_AMOUNT\n",
    "    print(\"Last amount USDT is \", balance , \"  USDT\")\n",
    "    return balance"
   ]
  },
  {
   "cell_type": "code",
   "execution_count": 11,
   "metadata": {},
   "outputs": [],
   "source": [
    "from copy import deepcopy\n",
    "\n",
    "def draw_simulation(img_out = None, from_idx = -1, to_idx = -1):\n",
    "    global SELL_PRICE,SELL_TS, BUY_PRICE, BUY_TS, df\n",
    "    plt.rcParams[\"figure.figsize\"] = (20,10)\n",
    "    \n",
    "    df_tmp = deepcopy(df)\n",
    "    \n",
    "    if from_idx != -1 and to_idx !=-1:\n",
    "        df_tmp = df[from_idx:to_idx]\n",
    "        \n",
    "    df_tmp['ts'] = pd.to_datetime(df['Timestamp'], unit='ms')\n",
    "    df_tmp[['ts', 'Close']].set_index('ts').plot()\n",
    "\n",
    "    plt.scatter(SELL_TS, SELL_PRICE, s= 300, facecolor='green')\n",
    "    \n",
    "    plt.scatter(BUY_TS, BUY_PRICE, s= 300, facecolor='red')\n",
    "    plt.legend()\n",
    "    plt.xlabel('Thời gian', fontsize=18)\n",
    "    plt.ylabel('Giá đóng phiên', fontsize=16)\n",
    "    \n",
    "    if img_out:\n",
    "        plt.savefig('figures/' + img_out)\n",
    "        \n",
    "    plt.show()"
   ]
  },
  {
   "cell_type": "markdown",
   "metadata": {},
   "source": [
    "# Better Profit"
   ]
  },
  {
   "cell_type": "code",
   "execution_count": 12,
   "metadata": {},
   "outputs": [
    {
     "name": "stdout",
     "output_type": "stream",
     "text": [
      "Number of trade:  75\n",
      "1.969969905776169505789E-7   BTC\n",
      "3294.022480414900000000000000   USDT\n",
      "Init amount USDT is  4332.600000000000363797880709   USDT\n",
      "Last amount USDT is  3294.024369537240843115580939   USDT\n",
      "Number of trade:  157\n",
      "2.172798697418196954259E-7   BTC\n",
      "3326.943513437100000000000000   USDT\n",
      "Init amount USDT is  4332.600000000000363797880709   USDT\n",
      "Last amount USDT is  3326.945597064138876154230302   USDT\n"
     ]
    },
    {
     "data": {
      "text/plain": [
       "Decimal('3326.945597064138876154230302')"
      ]
     },
     "execution_count": 12,
     "metadata": {},
     "output_type": "execute_result"
    }
   ],
   "source": [
    "Close_lst = df.Close.values\n",
    "Ts_lst = df.Timestamp.values\n",
    "strategy_01_current_price(threshold = 0.01)\n",
    "strategy_01_future_price(threshold = 0.01)"
   ]
  },
  {
   "cell_type": "code",
   "execution_count": 15,
   "metadata": {},
   "outputs": [
    {
     "name": "stdout",
     "output_type": "stream",
     "text": [
      "Number of trade:  47\n",
      "2.443856822109909903707E-7   BTC\n",
      "4209.649389842900000000000000   USDT\n",
      "Init amount USDT is  4332.600000000000363797880709   USDT\n",
      "Last amount USDT is  4209.651733403838130519290166   USDT\n",
      "Number of trade:  45\n",
      "3.46831219610761998670E-7   BTC\n",
      "4984.833682931500000000000000   USDT\n",
      "Init amount USDT is  4332.600000000000363797880709   USDT\n",
      "Last amount USDT is  4984.837008904163579363388622   USDT\n"
     ]
    },
    {
     "data": {
      "text/plain": [
       "Decimal('4984.837008904163579363388622')"
      ]
     },
     "execution_count": 15,
     "metadata": {},
     "output_type": "execute_result"
    }
   ],
   "source": [
    "Close_lst = df.Close.values\n",
    "Ts_lst = df.Timestamp.values\n",
    "strategy_01_current_price(threshold = 0.015)\n",
    "strategy_01_future_price(threshold = 0.015)"
   ]
  },
  {
   "cell_type": "markdown",
   "metadata": {},
   "source": [
    "# Risk case Worse performance"
   ]
  },
  {
   "cell_type": "code",
   "execution_count": 16,
   "metadata": {},
   "outputs": [
    {
     "name": "stdout",
     "output_type": "stream",
     "text": [
      "Number of trade:  407\n",
      "9.6244595161449056338178E-7   BTC\n",
      "160.5314079401000000000000000   USDT\n",
      "Init amount USDT is  4332.600000000000363797880709   USDT\n",
      "Last amount USDT is  160.5406374117976023190567417   USDT\n",
      "Number of trade:  1877\n",
      "1.90762592663058761717774845E-7   BTC\n",
      "0.03352020610000000000000000000   USDT\n",
      "Init amount USDT is  4332.600000000000363797880709   USDT\n",
      "Last amount USDT is  0.03534954305860166837076780058   USDT\n"
     ]
    },
    {
     "data": {
      "text/plain": [
       "Decimal('0.03534954305860166837076780058')"
      ]
     },
     "execution_count": 16,
     "metadata": {},
     "output_type": "execute_result"
    }
   ],
   "source": [
    "Close_lst = df.Close.values\n",
    "Ts_lst = df.Timestamp.values\n",
    "strategy_01_current_price(threshold = 0.001)\n",
    "strategy_01_future_price(threshold = 0.001)"
   ]
  }
 ],
 "metadata": {
  "kernelspec": {
   "display_name": "Python 3",
   "language": "python",
   "name": "python3"
  },
  "language_info": {
   "codemirror_mode": {
    "name": "ipython",
    "version": 3
   },
   "file_extension": ".py",
   "mimetype": "text/x-python",
   "name": "python",
   "nbconvert_exporter": "python",
   "pygments_lexer": "ipython3",
   "version": "3.6.8"
  }
 },
 "nbformat": 4,
 "nbformat_minor": 2
}

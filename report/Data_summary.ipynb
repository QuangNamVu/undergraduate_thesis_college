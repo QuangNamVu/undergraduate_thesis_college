{
 "cells": [
  {
   "cell_type": "code",
   "execution_count": 1,
   "metadata": {},
   "outputs": [],
   "source": [
    "import pandas as pd"
   ]
  },
  {
   "cell_type": "code",
   "execution_count": 2,
   "metadata": {},
   "outputs": [],
   "source": [
    "csv_1h = '/home/nam/data/ccxt/preprocessing_data/BTC_USDT_binance_1h.csv_train'\n",
    "csv_5m = '/home/nam/data/ccxt/preprocessing_data/BTC_USDT_binance_5m.csv_train'"
   ]
  },
  {
   "cell_type": "code",
   "execution_count": 3,
   "metadata": {},
   "outputs": [],
   "source": [
    "pd_1h = pd.read_csv(csv_1h)\n",
    "pd_5m = pd.read_csv(csv_5m)"
   ]
  },
  {
   "cell_type": "code",
   "execution_count": 4,
   "metadata": {
    "scrolled": true
   },
   "outputs": [
    {
     "data": {
      "text/html": [
       "<div>\n",
       "<table border=\"1\" class=\"dataframe\">\n",
       "  <thead>\n",
       "    <tr style=\"text-align: right;\">\n",
       "      <th></th>\n",
       "      <th>Timestamp</th>\n",
       "      <th>Open</th>\n",
       "      <th>High</th>\n",
       "      <th>Low</th>\n",
       "      <th>Close</th>\n",
       "      <th>Volume</th>\n",
       "      <th>N_buy</th>\n",
       "      <th>N_sell</th>\n",
       "      <th>buy_amount_avg</th>\n",
       "      <th>sell_amount_avg</th>\n",
       "      <th>...</th>\n",
       "      <th>_1d_Spread_Open_Close</th>\n",
       "      <th>_1d_Spread_High_Low</th>\n",
       "      <th>_1d_Spread_Buy_Sell</th>\n",
       "      <th>_1d_Spread_Buy_Sell_avg</th>\n",
       "      <th>_1d_MA_Close_3</th>\n",
       "      <th>_1d_MA_Close_12</th>\n",
       "      <th>_1d_MA_Close_24</th>\n",
       "      <th>_1d_MA_Close_120</th>\n",
       "      <th>1d_target</th>\n",
       "      <th>trend</th>\n",
       "    </tr>\n",
       "  </thead>\n",
       "  <tbody>\n",
       "    <tr>\n",
       "      <th>0</th>\n",
       "      <td>2017-08-22 08:00:00</td>\n",
       "      <td>3798.08</td>\n",
       "      <td>3805.76</td>\n",
       "      <td>3750.08</td>\n",
       "      <td>3794.12</td>\n",
       "      <td>36.868111</td>\n",
       "      <td>146.0</td>\n",
       "      <td>90.0</td>\n",
       "      <td>0.222437</td>\n",
       "      <td>0.048804</td>\n",
       "      <td>...</td>\n",
       "      <td>-0.96</td>\n",
       "      <td>-13.52</td>\n",
       "      <td>-0.957530</td>\n",
       "      <td>-0.071582</td>\n",
       "      <td>55.710000</td>\n",
       "      <td>-19.243333</td>\n",
       "      <td>-10.090833</td>\n",
       "      <td>-4.343333</td>\n",
       "      <td>110.44</td>\n",
       "      <td>1</td>\n",
       "    </tr>\n",
       "    <tr>\n",
       "      <th>1</th>\n",
       "      <td>2017-08-22 09:00:00</td>\n",
       "      <td>3794.12</td>\n",
       "      <td>3920.31</td>\n",
       "      <td>3775.01</td>\n",
       "      <td>3904.56</td>\n",
       "      <td>76.172178</td>\n",
       "      <td>144.0</td>\n",
       "      <td>128.0</td>\n",
       "      <td>0.423330</td>\n",
       "      <td>0.118849</td>\n",
       "      <td>...</td>\n",
       "      <td>-114.40</td>\n",
       "      <td>89.62</td>\n",
       "      <td>17.663345</td>\n",
       "      <td>0.130847</td>\n",
       "      <td>33.853333</td>\n",
       "      <td>-11.211667</td>\n",
       "      <td>-7.060000</td>\n",
       "      <td>-3.498250</td>\n",
       "      <td>-60.48</td>\n",
       "      <td>0</td>\n",
       "    </tr>\n",
       "    <tr>\n",
       "      <th>2</th>\n",
       "      <td>2017-08-22 10:00:00</td>\n",
       "      <td>3904.56</td>\n",
       "      <td>3904.56</td>\n",
       "      <td>3826.12</td>\n",
       "      <td>3844.08</td>\n",
       "      <td>59.322181</td>\n",
       "      <td>159.0</td>\n",
       "      <td>266.0</td>\n",
       "      <td>0.225848</td>\n",
       "      <td>0.088016</td>\n",
       "      <td>...</td>\n",
       "      <td>170.92</td>\n",
       "      <td>-66.86</td>\n",
       "      <td>-33.249213</td>\n",
       "      <td>-0.166648</td>\n",
       "      <td>15.333333</td>\n",
       "      <td>-16.418333</td>\n",
       "      <td>-10.167500</td>\n",
       "      <td>-4.215917</td>\n",
       "      <td>22.40</td>\n",
       "      <td>1</td>\n",
       "    </tr>\n",
       "    <tr>\n",
       "      <th>3</th>\n",
       "      <td>2017-08-22 11:00:00</td>\n",
       "      <td>3844.07</td>\n",
       "      <td>3905.56</td>\n",
       "      <td>3841.18</td>\n",
       "      <td>3866.48</td>\n",
       "      <td>49.368766</td>\n",
       "      <td>57.0</td>\n",
       "      <td>339.0</td>\n",
       "      <td>0.160660</td>\n",
       "      <td>0.118617</td>\n",
       "      <td>...</td>\n",
       "      <td>-82.89</td>\n",
       "      <td>-14.06</td>\n",
       "      <td>-43.551155</td>\n",
       "      <td>-0.095790</td>\n",
       "      <td>24.120000</td>\n",
       "      <td>-12.460000</td>\n",
       "      <td>-6.526250</td>\n",
       "      <td>-4.118417</td>\n",
       "      <td>67.53</td>\n",
       "      <td>1</td>\n",
       "    </tr>\n",
       "    <tr>\n",
       "      <th>4</th>\n",
       "      <td>2017-08-22 12:00:00</td>\n",
       "      <td>3866.48</td>\n",
       "      <td>3990.12</td>\n",
       "      <td>3853.53</td>\n",
       "      <td>3934.01</td>\n",
       "      <td>75.787584</td>\n",
       "      <td>40.0</td>\n",
       "      <td>533.0</td>\n",
       "      <td>0.472096</td>\n",
       "      <td>0.106761</td>\n",
       "      <td>...</td>\n",
       "      <td>-45.12</td>\n",
       "      <td>72.21</td>\n",
       "      <td>-6.966354</td>\n",
       "      <td>0.323292</td>\n",
       "      <td>9.816667</td>\n",
       "      <td>12.000833</td>\n",
       "      <td>-2.749583</td>\n",
       "      <td>-4.249917</td>\n",
       "      <td>-13.02</td>\n",
       "      <td>0</td>\n",
       "    </tr>\n",
       "  </tbody>\n",
       "</table>\n",
       "<p>5 rows × 50 columns</p>\n",
       "</div>"
      ],
      "text/plain": [
       "             Timestamp     Open     High      Low    Close     Volume  N_buy  \\\n",
       "0  2017-08-22 08:00:00  3798.08  3805.76  3750.08  3794.12  36.868111  146.0   \n",
       "1  2017-08-22 09:00:00  3794.12  3920.31  3775.01  3904.56  76.172178  144.0   \n",
       "2  2017-08-22 10:00:00  3904.56  3904.56  3826.12  3844.08  59.322181  159.0   \n",
       "3  2017-08-22 11:00:00  3844.07  3905.56  3841.18  3866.48  49.368766   57.0   \n",
       "4  2017-08-22 12:00:00  3866.48  3990.12  3853.53  3934.01  75.787584   40.0   \n",
       "\n",
       "   N_sell  buy_amount_avg  sell_amount_avg  ...    _1d_Spread_Open_Close  \\\n",
       "0    90.0        0.222437         0.048804  ...                    -0.96   \n",
       "1   128.0        0.423330         0.118849  ...                  -114.40   \n",
       "2   266.0        0.225848         0.088016  ...                   170.92   \n",
       "3   339.0        0.160660         0.118617  ...                   -82.89   \n",
       "4   533.0        0.472096         0.106761  ...                   -45.12   \n",
       "\n",
       "   _1d_Spread_High_Low  _1d_Spread_Buy_Sell  _1d_Spread_Buy_Sell_avg  \\\n",
       "0               -13.52            -0.957530                -0.071582   \n",
       "1                89.62            17.663345                 0.130847   \n",
       "2               -66.86           -33.249213                -0.166648   \n",
       "3               -14.06           -43.551155                -0.095790   \n",
       "4                72.21            -6.966354                 0.323292   \n",
       "\n",
       "   _1d_MA_Close_3  _1d_MA_Close_12  _1d_MA_Close_24  _1d_MA_Close_120  \\\n",
       "0       55.710000       -19.243333       -10.090833         -4.343333   \n",
       "1       33.853333       -11.211667        -7.060000         -3.498250   \n",
       "2       15.333333       -16.418333       -10.167500         -4.215917   \n",
       "3       24.120000       -12.460000        -6.526250         -4.118417   \n",
       "4        9.816667        12.000833        -2.749583         -4.249917   \n",
       "\n",
       "   1d_target  trend  \n",
       "0     110.44      1  \n",
       "1     -60.48      0  \n",
       "2      22.40      1  \n",
       "3      67.53      1  \n",
       "4     -13.02      0  \n",
       "\n",
       "[5 rows x 50 columns]"
      ]
     },
     "execution_count": 4,
     "metadata": {},
     "output_type": "execute_result"
    }
   ],
   "source": [
    "pd_1h.head()"
   ]
  },
  {
   "cell_type": "code",
   "execution_count": 5,
   "metadata": {},
   "outputs": [
    {
     "data": {
      "text/plain": [
       "1    9129\n",
       "0    8518\n",
       "Name: trend, dtype: int64"
      ]
     },
     "execution_count": 5,
     "metadata": {},
     "output_type": "execute_result"
    }
   ],
   "source": [
    "pd_1h.trend.value_counts()"
   ]
  },
  {
   "cell_type": "code",
   "execution_count": 6,
   "metadata": {},
   "outputs": [
    {
     "data": {
      "text/plain": [
       "1    107606\n",
       "0    102777\n",
       "Name: trend, dtype: int64"
      ]
     },
     "execution_count": 6,
     "metadata": {},
     "output_type": "execute_result"
    }
   ],
   "source": [
    "pd_5m.trend.value_counts()"
   ]
  },
  {
   "cell_type": "code",
   "execution_count": 7,
   "metadata": {},
   "outputs": [],
   "source": [
    "# ETH"
   ]
  },
  {
   "cell_type": "code",
   "execution_count": 10,
   "metadata": {},
   "outputs": [],
   "source": [
    "eth_csv_1h = '/home/nam/data/ccxt/preprocessing_data/ETH_USDT_binance_1h.csv_train'\n",
    "eth_csv_5m = '/home/nam/data/ccxt/preprocessing_data/ETH_USDT_binance_5m.csv_train'"
   ]
  },
  {
   "cell_type": "code",
   "execution_count": 12,
   "metadata": {
    "scrolled": true
   },
   "outputs": [],
   "source": [
    "# eth_pd_1h = pd.read_csv(eth_csv_1h)\n",
    "eth_pd_5m = pd.read_csv(eth_csv_5m)"
   ]
  },
  {
   "cell_type": "code",
   "execution_count": null,
   "metadata": {},
   "outputs": [],
   "source": [
    "# eth_pd_1h.trend.value_counts()"
   ]
  },
  {
   "cell_type": "code",
   "execution_count": 13,
   "metadata": {},
   "outputs": [
    {
     "data": {
      "text/plain": [
       "1    108814\n",
       "0    101507\n",
       "Name: trend, dtype: int64"
      ]
     },
     "execution_count": 13,
     "metadata": {},
     "output_type": "execute_result"
    }
   ],
   "source": [
    "eth_pd_5m.trend.value_counts()"
   ]
  },
  {
   "cell_type": "code",
   "execution_count": 17,
   "metadata": {},
   "outputs": [
    {
     "data": {
      "text/plain": [
       "(210383, 50)"
      ]
     },
     "execution_count": 17,
     "metadata": {},
     "output_type": "execute_result"
    }
   ],
   "source": [
    "pd_5m.shape"
   ]
  },
  {
   "cell_type": "code",
   "execution_count": 15,
   "metadata": {},
   "outputs": [
    {
     "data": {
      "text/plain": [
       "(210321, 50)"
      ]
     },
     "execution_count": 15,
     "metadata": {},
     "output_type": "execute_result"
    }
   ],
   "source": [
    "eth_pd_5m.shape"
   ]
  }
 ],
 "metadata": {
  "kernelspec": {
   "display_name": "Python 3",
   "language": "python",
   "name": "python3"
  },
  "language_info": {
   "codemirror_mode": {
    "name": "ipython",
    "version": 3
   },
   "file_extension": ".py",
   "mimetype": "text/x-python",
   "name": "python",
   "nbconvert_exporter": "python",
   "pygments_lexer": "ipython3",
   "version": "3.6.8"
  }
 },
 "nbformat": 4,
 "nbformat_minor": 2
}

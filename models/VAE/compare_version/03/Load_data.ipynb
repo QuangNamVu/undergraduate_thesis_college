{
 "cells": [
  {
   "cell_type": "code",
   "execution_count": 1,
   "metadata": {},
   "outputs": [],
   "source": [
    "import argparse\n",
    "import pickle\n",
    "import numpy as np\n",
    "import os\n",
    "import tensorflow as tf\n",
    "from tensorpack.utils import logger\n",
    "from tensorpack import *\n",
    "from tensorpack.tfutils.scope_utils import auto_reuse_variable_scope\n",
    "# from tensorpack.tfutils import summary\n",
    "\n",
    "from VAE.Model import ModelDesc, Trainer  # , RandomZData\n",
    "from VAE.info_params import get_default_hparams\n",
    "from VAE.load_data import *\n",
    "\n",
    "\n",
    "# prefetch data\n",
    "def get_data(hps):\n",
    "    dfX, df_next_deltaClose = load_data_seq(hps)\n",
    "\n",
    "    segment, next_segment, target_one_hot = segment_seq(dfX, df_next_deltaClose, hps)\n",
    "\n",
    "    train_segment, test_segment, train_next_shift, test_next_shift, train_target_one_hot, test_target_one_hot =\\\n",
    "    train_test_split(segment, next_segment, target_one_hot, hps)\n",
    "\n",
    "    train_data = LoadData(train_segment, train_segment, train_target_one_hot, shuffle=True)\n",
    "    test_data = LoadData(test_segment, test_segment, test_target_one_hot, shuffle=False)\n",
    "\n",
    "    ds_train = ConcatData([train_data])\n",
    "    ds_test = ConcatData([test_data])\n",
    "\n",
    "    ds_train = BatchData(ds_train, batch_size=hps.M)\n",
    "    ds_test = BatchData(ds_test, batch_size=hps.M)\n",
    "\n",
    "    return ds_train, ds_test\n",
    "\n",
    "def get_np_data(hps):\n",
    "    dfX, df_next_deltaClose = load_data_seq(hps)\n",
    "\n",
    "    segment, next_segment, target_one_hot = segment_seq(dfX, df_next_deltaClose, hps)\n",
    "\n",
    "    train_segment, test_segment, train_next_shift, test_next_shift, train_target_one_hot, test_target_one_hot =\\\n",
    "    train_test_split(segment, next_segment, target_one_hot, hps)\n",
    "\n",
    "    return train_segment, test_segment, train_target_one_hot, test_target_one_hot"
   ]
  },
  {
   "cell_type": "code",
   "execution_count": 2,
   "metadata": {},
   "outputs": [],
   "source": [
    "\n",
    "hps = get_default_hparams()\n",
    "\n",
    "hps.T = 10\n",
    "\n",
    "M = ModelDesc(hps)"
   ]
  },
  {
   "cell_type": "code",
   "execution_count": 3,
   "metadata": {},
   "outputs": [
    {
     "name": "stdout",
     "output_type": "stream",
     "text": [
      "Normalize: Z score\n"
     ]
    }
   ],
   "source": [
    "train_segment, test_segment, train_target_one_hot, test_target_one_hot = get_np_data(hps)"
   ]
  },
  {
   "cell_type": "code",
   "execution_count": 4,
   "metadata": {},
   "outputs": [
    {
     "data": {
      "text/plain": [
       "(15330, 10, 44)"
      ]
     },
     "execution_count": 4,
     "metadata": {},
     "output_type": "execute_result"
    }
   ],
   "source": [
    "train_segment.shape"
   ]
  },
  {
   "cell_type": "code",
   "execution_count": 5,
   "metadata": {},
   "outputs": [
    {
     "data": {
      "text/plain": [
       "(2303, 10, 44)"
      ]
     },
     "execution_count": 5,
     "metadata": {},
     "output_type": "execute_result"
    }
   ],
   "source": [
    "test_segment.shape"
   ]
  },
  {
   "cell_type": "code",
   "execution_count": 6,
   "metadata": {},
   "outputs": [
    {
     "data": {
      "text/plain": [
       "<matplotlib.colorbar.Colorbar at 0x7fbaabaac208>"
      ]
     },
     "execution_count": 6,
     "metadata": {},
     "output_type": "execute_result"
    }
   ],
   "source": [
    "# data_point_0 = train_segment[0]\n",
    "import numpy as np\n",
    "import matplotlib.pyplot as plt\n",
    "\n",
    "plt.figure(figsize = (10,10))\n",
    "\n",
    "plt.imshow(train_segment[1000], interpolation='nearest');\n",
    "plt.colorbar()"
   ]
  },
  {
   "cell_type": "code",
   "execution_count": 7,
   "metadata": {},
   "outputs": [
    {
     "data": {
      "text/plain": [
       "9.625"
      ]
     },
     "execution_count": 7,
     "metadata": {},
     "output_type": "execute_result"
    }
   ],
   "source": [
    "28*44/128"
   ]
  }
 ],
 "metadata": {
  "kernelspec": {
   "display_name": "Python 3",
   "language": "python",
   "name": "python3"
  },
  "language_info": {
   "codemirror_mode": {
    "name": "ipython",
    "version": 3
   },
   "file_extension": ".py",
   "mimetype": "text/x-python",
   "name": "python",
   "nbconvert_exporter": "python",
   "pygments_lexer": "ipython3",
   "version": "3.6.8"
  }
 },
 "nbformat": 4,
 "nbformat_minor": 2
}

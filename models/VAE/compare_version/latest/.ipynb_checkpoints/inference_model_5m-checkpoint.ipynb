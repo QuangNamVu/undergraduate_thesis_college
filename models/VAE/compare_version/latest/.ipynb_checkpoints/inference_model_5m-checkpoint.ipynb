{
 "cells": [
  {
   "cell_type": "code",
   "execution_count": 1,
   "metadata": {},
   "outputs": [
    {
     "name": "stdout",
     "output_type": "stream",
     "text": [
      "OpenCV is built with OpenMP support. This usually results in poor performance. For details, see https://github.com/tensorpack/benchmarks/blob/master/ImageNet/benchmark-opencv-resize.py\n"
     ]
    }
   ],
   "source": [
    "from tensorpack.predict.config import PredictConfig\n",
    "from tensorpack.tfutils import SmartInit"
   ]
  },
  {
   "cell_type": "code",
   "execution_count": 2,
   "metadata": {},
   "outputs": [],
   "source": [
    "from VAE.Model import ModelDesc, Trainer  # , RandomZData\n",
    "from VAE.extra_info_params import get_default_hparams\n",
    "\n",
    "hps = get_default_hparams()"
   ]
  },
  {
   "cell_type": "code",
   "execution_count": 3,
   "metadata": {},
   "outputs": [
    {
     "data": {
      "text/plain": [
       "60"
      ]
     },
     "execution_count": 3,
     "metadata": {},
     "output_type": "execute_result"
    }
   ],
   "source": [
    "hps.T"
   ]
  },
  {
   "cell_type": "code",
   "execution_count": 4,
   "metadata": {},
   "outputs": [
    {
     "data": {
      "text/plain": [
       "46"
      ]
     },
     "execution_count": 4,
     "metadata": {},
     "output_type": "execute_result"
    }
   ],
   "source": [
    "hps.D"
   ]
  },
  {
   "cell_type": "code",
   "execution_count": 5,
   "metadata": {},
   "outputs": [
    {
     "data": {
      "text/plain": [
       "'/home/nam/data/ccxt/preprocessing_data/BTC_USDT_binance_5m.csv_train'"
      ]
     },
     "execution_count": 5,
     "metadata": {},
     "output_type": "execute_result"
    }
   ],
   "source": [
    "hps.data_file_name"
   ]
  },
  {
   "cell_type": "code",
   "execution_count": 6,
   "metadata": {},
   "outputs": [],
   "source": [
    "checkpoint_path = './train_log/train_5m/checkpoint'"
   ]
  },
  {
   "cell_type": "code",
   "execution_count": 7,
   "metadata": {},
   "outputs": [],
   "source": [
    "M = ModelDesc(hps)\n",
    "pred_config = PredictConfig(\n",
    "        session_init=SmartInit(checkpoint_path),\n",
    "        model=M,\n",
    "        input_names=['x'],\n",
    "        output_names=['predict/y_pred']\n",
    ")"
   ]
  },
  {
   "cell_type": "code",
   "execution_count": 8,
   "metadata": {},
   "outputs": [
    {
     "name": "stdout",
     "output_type": "stream",
     "text": [
      "\u001b[32m[0101 20:08:25 @collection.py:146]\u001b[0m New collections created in tower : tf.GraphKeys.MODEL_VARIABLES of size 10, tf.GraphKeys.METRIC_VARIABLES of size 2\n",
      "\u001b[32m[0101 20:08:25 @collection.py:165]\u001b[0m These collections were modified but restored in : (tf.GraphKeys.SUMMARIES: 0->7)\n",
      "\u001b[32m[0101 20:08:25 @sessinit.py:87]\u001b[0m \u001b[5m\u001b[31mWRN\u001b[0m The following variables are in the checkpoint, but not found in the graph: global_step, optimize/beta1_power, optimize/beta2_power\n",
      "\u001b[32m[0101 20:08:26 @sessinit.py:114]\u001b[0m Restoring checkpoint from ./train_log/train_5m/model-13410 ...\n",
      "INFO:tensorflow:Restoring parameters from ./train_log/train_5m/model-13410\n"
     ]
    }
   ],
   "source": [
    "from tensorpack.predict import OfflinePredictor\n",
    "predictor = OfflinePredictor(pred_config)"
   ]
  },
  {
   "cell_type": "code",
   "execution_count": 9,
   "metadata": {},
   "outputs": [],
   "source": [
    "import pandas as pd\n",
    "import numpy as np"
   ]
  },
  {
   "cell_type": "code",
   "execution_count": 10,
   "metadata": {},
   "outputs": [],
   "source": [
    "from VAE.load_data import *\n",
    "def get_data(hps):\n",
    "    dfX, df_next_deltaClose = load_data_seq(hps)\n",
    "\n",
    "    segment, next_segment, target_one_hot = segment_seq(dfX, df_next_deltaClose, hps)\n",
    "\n",
    "    train_segment, test_segment, _, _, train_target_one_hot, test_target_one_hot =\\\n",
    "    train_test_split(segment, next_segment, target_one_hot, hps)\n",
    "\n",
    "    return train_segment, train_target_one_hot, test_segment, test_target_one_hot"
   ]
  },
  {
   "cell_type": "code",
   "execution_count": 11,
   "metadata": {},
   "outputs": [
    {
     "name": "stdout",
     "output_type": "stream",
     "text": [
      "Normalize: Z score\n"
     ]
    }
   ],
   "source": [
    "X_train, y_train, X_val, y_val = get_data(hps)"
   ]
  },
  {
   "cell_type": "code",
   "execution_count": 12,
   "metadata": {},
   "outputs": [
    {
     "data": {
      "text/plain": [
       "(184460, 60, 46)"
      ]
     },
     "execution_count": 12,
     "metadata": {},
     "output_type": "execute_result"
    }
   ],
   "source": [
    "X_train.shape"
   ]
  },
  {
   "cell_type": "code",
   "execution_count": 13,
   "metadata": {},
   "outputs": [
    {
     "data": {
      "text/plain": [
       "(184460, 1, 2)"
      ]
     },
     "execution_count": 13,
     "metadata": {},
     "output_type": "execute_result"
    }
   ],
   "source": [
    "y_train.shape"
   ]
  },
  {
   "cell_type": "code",
   "execution_count": 14,
   "metadata": {},
   "outputs": [
    {
     "data": {
      "text/plain": [
       "(25860, 60, 46)"
      ]
     },
     "execution_count": 14,
     "metadata": {},
     "output_type": "execute_result"
    }
   ],
   "source": [
    "X_val.shape"
   ]
  },
  {
   "cell_type": "code",
   "execution_count": 15,
   "metadata": {},
   "outputs": [],
   "source": [
    "cols = hps.attributes_normalize_mean\n",
    "test_file = '/home/nam/data/ccxt/preprocessing_data/BTC_USDT_binance_5m.csv_test'\n",
    "df_X_test = pd.read_csv(test_file)\n",
    "X_test_seq = df_X_test[cols].values\n",
    "T, D = hps.T, hps.D"
   ]
  },
  {
   "cell_type": "code",
   "execution_count": 16,
   "metadata": {},
   "outputs": [
    {
     "data": {
      "text/html": [
       "<div>\n",
       "<table border=\"1\" class=\"dataframe\">\n",
       "  <thead>\n",
       "    <tr style=\"text-align: right;\">\n",
       "      <th></th>\n",
       "      <th>Timestamp</th>\n",
       "      <th>Open</th>\n",
       "      <th>High</th>\n",
       "      <th>Low</th>\n",
       "      <th>Close</th>\n",
       "      <th>Volume</th>\n",
       "      <th>N_buy</th>\n",
       "      <th>N_sell</th>\n",
       "      <th>buy_amount_avg</th>\n",
       "      <th>sell_amount_avg</th>\n",
       "      <th>...</th>\n",
       "      <th>_1d_Spread_Open_Close</th>\n",
       "      <th>_1d_Spread_High_Low</th>\n",
       "      <th>_1d_Spread_Buy_Sell</th>\n",
       "      <th>_1d_Spread_Buy_Sell_avg</th>\n",
       "      <th>_1d_MA_Close_6</th>\n",
       "      <th>_1d_MA_Close_12</th>\n",
       "      <th>_1d_MA_Close_288</th>\n",
       "      <th>_1d_MA_Close_2880</th>\n",
       "      <th>1d_target</th>\n",
       "      <th>trend</th>\n",
       "    </tr>\n",
       "  </thead>\n",
       "  <tbody>\n",
       "    <tr>\n",
       "      <th>8635</th>\n",
       "      <td>2019-09-30 23:35:00</td>\n",
       "      <td>8249.17</td>\n",
       "      <td>8277.57</td>\n",
       "      <td>8248.45</td>\n",
       "      <td>8263.75</td>\n",
       "      <td>108.150063</td>\n",
       "      <td>7710.0</td>\n",
       "      <td>6965.0</td>\n",
       "      <td>0.153769</td>\n",
       "      <td>0.117014</td>\n",
       "      <td>...</td>\n",
       "      <td>-2.28</td>\n",
       "      <td>13.06</td>\n",
       "      <td>-44.016928</td>\n",
       "      <td>-0.004544</td>\n",
       "      <td>5.490000</td>\n",
       "      <td>3.616667</td>\n",
       "      <td>0.705694</td>\n",
       "      <td>-0.663861</td>\n",
       "      <td>16.25</td>\n",
       "      <td>1</td>\n",
       "    </tr>\n",
       "    <tr>\n",
       "      <th>8636</th>\n",
       "      <td>2019-09-30 23:40:00</td>\n",
       "      <td>8264.56</td>\n",
       "      <td>8289.00</td>\n",
       "      <td>8259.01</td>\n",
       "      <td>8280.00</td>\n",
       "      <td>125.008526</td>\n",
       "      <td>7555.0</td>\n",
       "      <td>6943.0</td>\n",
       "      <td>0.156957</td>\n",
       "      <td>0.119180</td>\n",
       "      <td>...</td>\n",
       "      <td>-0.86</td>\n",
       "      <td>0.87</td>\n",
       "      <td>-12.208191</td>\n",
       "      <td>0.001023</td>\n",
       "      <td>6.225000</td>\n",
       "      <td>5.742500</td>\n",
       "      <td>0.802708</td>\n",
       "      <td>-0.658892</td>\n",
       "      <td>-9.53</td>\n",
       "      <td>0</td>\n",
       "    </tr>\n",
       "    <tr>\n",
       "      <th>8637</th>\n",
       "      <td>2019-09-30 23:45:00</td>\n",
       "      <td>8279.75</td>\n",
       "      <td>8282.99</td>\n",
       "      <td>8260.86</td>\n",
       "      <td>8270.47</td>\n",
       "      <td>64.111605</td>\n",
       "      <td>7151.0</td>\n",
       "      <td>6778.0</td>\n",
       "      <td>0.158853</td>\n",
       "      <td>0.119083</td>\n",
       "      <td>...</td>\n",
       "      <td>24.72</td>\n",
       "      <td>-7.86</td>\n",
       "      <td>-29.535548</td>\n",
       "      <td>0.001992</td>\n",
       "      <td>3.715000</td>\n",
       "      <td>4.672500</td>\n",
       "      <td>0.752708</td>\n",
       "      <td>-0.659878</td>\n",
       "      <td>-6.04</td>\n",
       "      <td>0</td>\n",
       "    </tr>\n",
       "    <tr>\n",
       "      <th>8638</th>\n",
       "      <td>2019-09-30 23:50:00</td>\n",
       "      <td>8270.71</td>\n",
       "      <td>8270.71</td>\n",
       "      <td>8256.01</td>\n",
       "      <td>8264.43</td>\n",
       "      <td>69.797425</td>\n",
       "      <td>6974.0</td>\n",
       "      <td>6645.0</td>\n",
       "      <td>0.163158</td>\n",
       "      <td>0.120201</td>\n",
       "      <td>...</td>\n",
       "      <td>-3.00</td>\n",
       "      <td>-7.43</td>\n",
       "      <td>10.318984</td>\n",
       "      <td>0.003188</td>\n",
       "      <td>3.221667</td>\n",
       "      <td>3.237500</td>\n",
       "      <td>0.730035</td>\n",
       "      <td>-0.661687</td>\n",
       "      <td>24.91</td>\n",
       "      <td>1</td>\n",
       "    </tr>\n",
       "    <tr>\n",
       "      <th>8639</th>\n",
       "      <td>2019-09-30 23:55:00</td>\n",
       "      <td>8264.19</td>\n",
       "      <td>8295.00</td>\n",
       "      <td>8263.56</td>\n",
       "      <td>8289.34</td>\n",
       "      <td>115.803928</td>\n",
       "      <td>6801.0</td>\n",
       "      <td>6508.0</td>\n",
       "      <td>0.163959</td>\n",
       "      <td>0.122547</td>\n",
       "      <td>...</td>\n",
       "      <td>-31.43</td>\n",
       "      <td>16.74</td>\n",
       "      <td>-21.577561</td>\n",
       "      <td>-0.001545</td>\n",
       "      <td>8.351667</td>\n",
       "      <td>5.896667</td>\n",
       "      <td>0.852500</td>\n",
       "      <td>-0.652517</td>\n",
       "      <td>-47.01</td>\n",
       "      <td>0</td>\n",
       "    </tr>\n",
       "  </tbody>\n",
       "</table>\n",
       "<p>5 rows × 50 columns</p>\n",
       "</div>"
      ],
      "text/plain": [
       "                Timestamp     Open     High      Low    Close      Volume  \\\n",
       "8635  2019-09-30 23:35:00  8249.17  8277.57  8248.45  8263.75  108.150063   \n",
       "8636  2019-09-30 23:40:00  8264.56  8289.00  8259.01  8280.00  125.008526   \n",
       "8637  2019-09-30 23:45:00  8279.75  8282.99  8260.86  8270.47   64.111605   \n",
       "8638  2019-09-30 23:50:00  8270.71  8270.71  8256.01  8264.43   69.797425   \n",
       "8639  2019-09-30 23:55:00  8264.19  8295.00  8263.56  8289.34  115.803928   \n",
       "\n",
       "       N_buy  N_sell  buy_amount_avg  sell_amount_avg  ...    \\\n",
       "8635  7710.0  6965.0        0.153769         0.117014  ...     \n",
       "8636  7555.0  6943.0        0.156957         0.119180  ...     \n",
       "8637  7151.0  6778.0        0.158853         0.119083  ...     \n",
       "8638  6974.0  6645.0        0.163158         0.120201  ...     \n",
       "8639  6801.0  6508.0        0.163959         0.122547  ...     \n",
       "\n",
       "      _1d_Spread_Open_Close  _1d_Spread_High_Low  _1d_Spread_Buy_Sell  \\\n",
       "8635                  -2.28                13.06           -44.016928   \n",
       "8636                  -0.86                 0.87           -12.208191   \n",
       "8637                  24.72                -7.86           -29.535548   \n",
       "8638                  -3.00                -7.43            10.318984   \n",
       "8639                 -31.43                16.74           -21.577561   \n",
       "\n",
       "      _1d_Spread_Buy_Sell_avg  _1d_MA_Close_6  _1d_MA_Close_12  \\\n",
       "8635                -0.004544        5.490000         3.616667   \n",
       "8636                 0.001023        6.225000         5.742500   \n",
       "8637                 0.001992        3.715000         4.672500   \n",
       "8638                 0.003188        3.221667         3.237500   \n",
       "8639                -0.001545        8.351667         5.896667   \n",
       "\n",
       "      _1d_MA_Close_288  _1d_MA_Close_2880  1d_target  trend  \n",
       "8635          0.705694          -0.663861      16.25      1  \n",
       "8636          0.802708          -0.658892      -9.53      0  \n",
       "8637          0.752708          -0.659878      -6.04      0  \n",
       "8638          0.730035          -0.661687      24.91      1  \n",
       "8639          0.852500          -0.652517     -47.01      0  \n",
       "\n",
       "[5 rows x 50 columns]"
      ]
     },
     "execution_count": 16,
     "metadata": {},
     "output_type": "execute_result"
    }
   ],
   "source": [
    "df_X_test.tail()"
   ]
  },
  {
   "cell_type": "code",
   "execution_count": 17,
   "metadata": {},
   "outputs": [
    {
     "data": {
      "text/plain": [
       "(8640, 46)"
      ]
     },
     "execution_count": 17,
     "metadata": {},
     "output_type": "execute_result"
    }
   ],
   "source": [
    "X_test_seq.shape"
   ]
  },
  {
   "cell_type": "code",
   "execution_count": 18,
   "metadata": {},
   "outputs": [],
   "source": [
    "N_seq = X_test_seq.shape[0]\n",
    "N_test = N_seq - T + 1\n",
    "X_test = np.zeros(shape=(N_test, T, D))\n",
    "for i in range(N_test):\n",
    "    X_test[i] = X_test_seq[i:i+T]"
   ]
  },
  {
   "cell_type": "code",
   "execution_count": 19,
   "metadata": {},
   "outputs": [],
   "source": [
    "scaler = np.load(hps.scaler_path)\n",
    "mu = scaler['mu']\n",
    "# X_min = scaler['X_min']\n",
    "# X_max = scaler['X_max']\n",
    "X_std = scaler['X_std']\n",
    "X_test = (X_test - mu) / X_std"
   ]
  },
  {
   "cell_type": "code",
   "execution_count": 20,
   "metadata": {
    "scrolled": true
   },
   "outputs": [
    {
     "data": {
      "text/plain": [
       "array([1, 0, 1, ..., 0, 1, 0])"
      ]
     },
     "execution_count": 20,
     "metadata": {},
     "output_type": "execute_result"
    }
   ],
   "source": [
    "y_test = df_X_test.trend[T-1:N_test + T -1].values # shift T -1\n",
    "y_test"
   ]
  },
  {
   "cell_type": "code",
   "execution_count": 21,
   "metadata": {},
   "outputs": [
    {
     "data": {
      "text/plain": [
       "array([0, 1, 1, ..., 1, 1, 1])"
      ]
     },
     "execution_count": 21,
     "metadata": {},
     "output_type": "execute_result"
    }
   ],
   "source": [
    "# predict training set\n",
    "M = hps.M\n",
    "N_train = X_train.shape[0]  # 2160\n",
    "y_train_hat = np.zeros([N_train, 1, hps.C])\n",
    "y_train_hat[-M:] = predictor(X_train[-M:])[0]\n",
    "\n",
    "for i in range(N_train // M):\n",
    "    idx = M * i\n",
    "    y_train_hat[M * i:M *(i+ 1)] = predictor(X_train[M * i:M *(i+ 1)])[0]\n",
    "    \n",
    "y_train_hat = np.argmax(y_train_hat[:,0,:], axis = -1)\n",
    "y_train_hat"
   ]
  },
  {
   "cell_type": "code",
   "execution_count": 22,
   "metadata": {},
   "outputs": [
    {
     "data": {
      "text/plain": [
       "array([0, 0, 1, ..., 0, 0, 0])"
      ]
     },
     "execution_count": 22,
     "metadata": {},
     "output_type": "execute_result"
    }
   ],
   "source": [
    "# predict validation set\n",
    "M = hps.M\n",
    "N_val = X_val.shape[0]  # 2160\n",
    "y_val_hat = np.zeros([N_val, 1, hps.C])\n",
    "y_val_hat[-M:] = predictor(X_val[-M:])[0]\n",
    "\n",
    "for i in range(N_val // M):\n",
    "    idx = M * i\n",
    "    y_val_hat[M * i:M *(i+ 1)] = predictor(X_val[M * i:M *(i+ 1)])[0]\n",
    "    \n",
    "y_val_hat = np.argmax(y_val_hat[:,0,:], axis = -1)\n",
    "y_val_hat"
   ]
  },
  {
   "cell_type": "code",
   "execution_count": 23,
   "metadata": {},
   "outputs": [
    {
     "data": {
      "text/plain": [
       "array([0, 0, 0, ..., 0, 1, 0])"
      ]
     },
     "execution_count": 23,
     "metadata": {},
     "output_type": "execute_result"
    }
   ],
   "source": [
    "# predict test\n",
    "M = hps.M\n",
    "\n",
    "y_test_hat = np.zeros([N_test, 1, hps.C])\n",
    "y_test_hat[-M:] = predictor(X_test[-M:])[0]\n",
    "\n",
    "for i in range(N_test // M):\n",
    "    idx = M * i\n",
    "    y_test_hat[M * i:M *(i+ 1)] = predictor(X_test[M * i:M *(i+ 1)])[0]\n",
    "    \n",
    "y_test_hat = np.argmax(y_test_hat[:,0,:], axis = -1)\n",
    "y_test_hat"
   ]
  },
  {
   "cell_type": "code",
   "execution_count": 24,
   "metadata": {},
   "outputs": [],
   "source": [
    "## Squeeze and argmax Target into 1d\n",
    "if len(y_val.shape) == 3:\n",
    "    y_val = np.argmax(y_val[:,0,:], axis=-1)\n",
    "    \n",
    "if len(y_train.shape) == 3:\n",
    "    y_train = np.argmax(y_train[:,0,:], axis=-1)\n"
   ]
  },
  {
   "cell_type": "markdown",
   "metadata": {},
   "source": [
    "# Training Metrics"
   ]
  },
  {
   "cell_type": "code",
   "execution_count": 25,
   "metadata": {},
   "outputs": [
    {
     "name": "stdout",
     "output_type": "stream",
     "text": [
      "[[82456  7275]\n",
      " [ 7897 86832]]\n",
      "              precision    recall  f1-score   support\n",
      "\n",
      "           0       0.91      0.92      0.92     89731\n",
      "           1       0.92      0.92      0.92     94729\n",
      "\n",
      "   micro avg       0.92      0.92      0.92    184460\n",
      "   macro avg       0.92      0.92      0.92    184460\n",
      "weighted avg       0.92      0.92      0.92    184460\n",
      "\n",
      "0.9177491054971267\n"
     ]
    }
   ],
   "source": [
    "from sklearn.metrics import classification_report, confusion_matrix, accuracy_score\n",
    "cm = confusion_matrix(y_train, y_train_hat)\n",
    "rp = classification_report(y_train, y_train_hat)\n",
    "score = accuracy_score(y_train, y_train_hat)\n",
    "\n",
    "print(cm)\n",
    "print(rp)\n",
    "print(score)"
   ]
  },
  {
   "cell_type": "markdown",
   "metadata": {},
   "source": [
    "# Validation Metrics"
   ]
  },
  {
   "cell_type": "code",
   "execution_count": 26,
   "metadata": {},
   "outputs": [
    {
     "name": "stdout",
     "output_type": "stream",
     "text": [
      "[[9734 3288]\n",
      " [3104 9734]]\n",
      "              precision    recall  f1-score   support\n",
      "\n",
      "           0       0.76      0.75      0.75     13022\n",
      "           1       0.75      0.76      0.75     12838\n",
      "\n",
      "   micro avg       0.75      0.75      0.75     25860\n",
      "   macro avg       0.75      0.75      0.75     25860\n",
      "weighted avg       0.75      0.75      0.75     25860\n",
      "\n",
      "accuracy :  0.7528228924980666\n",
      "f1_score :  0.7528228924980667\n"
     ]
    }
   ],
   "source": [
    "from sklearn.metrics import classification_report, confusion_matrix, accuracy_score, f1_score\n",
    "cm = confusion_matrix(y_val, y_val_hat)\n",
    "rp = classification_report(y_val, y_val_hat)\n",
    "score = accuracy_score(y_val, y_val_hat)\n",
    "f1 = f1_score(y_val, y_val_hat)\n",
    "\n",
    "print(cm)\n",
    "print(rp)\n",
    "print('accuracy : ', score)\n",
    "print('f1_score : ', f1)"
   ]
  },
  {
   "cell_type": "markdown",
   "metadata": {},
   "source": [
    "# Testing metrics"
   ]
  },
  {
   "cell_type": "code",
   "execution_count": 27,
   "metadata": {},
   "outputs": [
    {
     "name": "stdout",
     "output_type": "stream",
     "text": [
      "[[3404 1006]\n",
      " [1137 3034]]\n",
      "              precision    recall  f1-score   support\n",
      "\n",
      "           0       0.75      0.77      0.76      4410\n",
      "           1       0.75      0.73      0.74      4171\n",
      "\n",
      "   micro avg       0.75      0.75      0.75      8581\n",
      "   macro avg       0.75      0.75      0.75      8581\n",
      "weighted avg       0.75      0.75      0.75      8581\n",
      "\n",
      "0.7502622072019578\n"
     ]
    }
   ],
   "source": [
    "from sklearn.metrics import classification_report, confusion_matrix, accuracy_score\n",
    "cm = confusion_matrix(y_test, y_test_hat)\n",
    "rp = classification_report(y_test, y_test_hat)\n",
    "score = accuracy_score(y_test, y_test_hat)\n",
    "\n",
    "print(cm)\n",
    "print(rp)\n",
    "print(score)"
   ]
  }
 ],
 "metadata": {
  "kernelspec": {
   "display_name": "Python 3",
   "language": "python",
   "name": "python3"
  },
  "language_info": {
   "codemirror_mode": {
    "name": "ipython",
    "version": 3
   },
   "file_extension": ".py",
   "mimetype": "text/x-python",
   "name": "python",
   "nbconvert_exporter": "python",
   "pygments_lexer": "ipython3",
   "version": "3.6.8"
  }
 },
 "nbformat": 4,
 "nbformat_minor": 2
}

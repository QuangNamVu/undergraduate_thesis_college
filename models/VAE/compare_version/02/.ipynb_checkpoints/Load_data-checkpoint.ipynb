{
 "cells": [
  {
   "cell_type": "code",
   "execution_count": 1,
   "metadata": {},
   "outputs": [],
   "source": [
    "import argparse\n",
    "import pickle\n",
    "import numpy as np\n",
    "import os\n",
    "import tensorflow as tf\n",
    "from tensorpack.utils import logger\n",
    "from tensorpack import *\n",
    "from tensorpack.tfutils.scope_utils import auto_reuse_variable_scope\n",
    "# from tensorpack.tfutils import summary\n",
    "\n",
    "from VAE.Model import ModelDesc, Trainer  # , RandomZData\n",
    "from VAE.info_params import get_default_hparams\n",
    "from VAE.load_data import *\n",
    "\n",
    "\n",
    "# prefetch data\n",
    "def get_data(hps):\n",
    "    dfX, df_next_deltaClose = load_data_seq(hps)\n",
    "\n",
    "    segment, next_segment, target_one_hot = segment_seq(dfX, df_next_deltaClose, hps)\n",
    "\n",
    "    train_segment, test_segment, train_next_shift, test_next_shift, train_target_one_hot, test_target_one_hot =\\\n",
    "    train_test_split(segment, next_segment, target_one_hot, hps)\n",
    "\n",
    "    train_data = LoadData(train_segment, train_segment, train_target_one_hot, shuffle=True)\n",
    "    test_data = LoadData(test_segment, test_segment, test_target_one_hot, shuffle=False)\n",
    "\n",
    "    ds_train = ConcatData([train_data])\n",
    "    ds_test = ConcatData([test_data])\n",
    "\n",
    "    ds_train = BatchData(ds_train, batch_size=hps.M)\n",
    "    ds_test = BatchData(ds_test, batch_size=hps.M)\n",
    "\n",
    "    return ds_train, ds_test"
   ]
  },
  {
   "cell_type": "code",
   "execution_count": 8,
   "metadata": {},
   "outputs": [
    {
     "name": "stdout",
     "output_type": "stream",
     "text": [
      "Normalize: Z score\n"
     ]
    }
   ],
   "source": [
    "\n",
    "hps = get_default_hparams()\n",
    "\n",
    "# with open(\"./hps/hps.pickle\", \"wb\") as output_file:\n",
    "#     pickle.dump(hps, output_file)\n",
    "\n",
    "M = ModelDesc(hps)\n",
    "\n",
    "# logger.auto_set_dir(action='d')\n",
    "ds_train, ds_test = get_data(hps)"
   ]
  },
  {
   "cell_type": "code",
   "execution_count": 9,
   "metadata": {},
   "outputs": [
    {
     "data": {
      "text/plain": [
       "<tensorpack.dataflow.common.BatchData at 0x7fc7737890f0>"
      ]
     },
     "execution_count": 9,
     "metadata": {},
     "output_type": "execute_result"
    }
   ],
   "source": [
    "ds_train"
   ]
  },
  {
   "cell_type": "code",
   "execution_count": null,
   "metadata": {},
   "outputs": [],
   "source": [
    "ds_train"
   ]
  }
 ],
 "metadata": {
  "kernelspec": {
   "display_name": "Python 3",
   "language": "python",
   "name": "python3"
  },
  "language_info": {
   "codemirror_mode": {
    "name": "ipython",
    "version": 3
   },
   "file_extension": ".py",
   "mimetype": "text/x-python",
   "name": "python",
   "nbconvert_exporter": "python",
   "pygments_lexer": "ipython3",
   "version": "3.6.8"
  }
 },
 "nbformat": 4,
 "nbformat_minor": 2
}

{
 "cells": [
  {
   "cell_type": "code",
   "execution_count": 14,
   "metadata": {},
   "outputs": [],
   "source": [
    "# checkpoint_path = './train_log/train/model-15'\n",
    "checkpoint_path = './train_log/train/checkpoint'"
   ]
  },
  {
   "cell_type": "code",
   "execution_count": 2,
   "metadata": {},
   "outputs": [
    {
     "name": "stdout",
     "output_type": "stream",
     "text": [
      "OpenCV is built with OpenMP support. This usually results in poor performance. For details, see https://github.com/tensorpack/benchmarks/blob/master/ImageNet/benchmark-opencv-resize.py\n"
     ]
    }
   ],
   "source": [
    "import VAE"
   ]
  },
  {
   "cell_type": "code",
   "execution_count": 3,
   "metadata": {},
   "outputs": [],
   "source": [
    "from tensorpack.predict.config import PredictConfig\n",
    "from tensorpack.tfutils import SmartInit"
   ]
  },
  {
   "cell_type": "code",
   "execution_count": 4,
   "metadata": {},
   "outputs": [],
   "source": [
    "from VAE.Model import ModelDesc, Trainer  # , RandomZData\n",
    "from VAE import get_default_hparams\n",
    "hps = get_default_hparams()\n",
    "M = ModelDesc(hps)"
   ]
  },
  {
   "cell_type": "code",
   "execution_count": 15,
   "metadata": {},
   "outputs": [],
   "source": [
    "pred_config = PredictConfig(\n",
    "        session_init=SmartInit(checkpoint_path),\n",
    "        model=M,\n",
    "        input_names=['x'],\n",
    "        output_names=['predict/y_pred']\n",
    ")"
   ]
  },
  {
   "cell_type": "code",
   "execution_count": 16,
   "metadata": {},
   "outputs": [
    {
     "name": "stdout",
     "output_type": "stream",
     "text": [
      "\u001b[32m[0916 11:28:18 @collection.py:146]\u001b[0m New collections created in tower : tf.GraphKeys.MODEL_VARIABLES of size 2, tf.GraphKeys.METRIC_VARIABLES of size 2\n",
      "\u001b[32m[0916 11:28:18 @collection.py:165]\u001b[0m These collections were modified but restored in : (tf.GraphKeys.SUMMARIES: 0->7)\n",
      "\u001b[32m[0916 11:28:18 @sessinit.py:87]\u001b[0m \u001b[5m\u001b[31mWRN\u001b[0m The following variables are in the checkpoint, but not found in the graph: global_step, optimize/beta1_power, optimize/beta2_power\n",
      "\u001b[32m[0916 11:28:19 @sessinit.py:114]\u001b[0m Restoring checkpoint from ./train_log/train/model-15 ...\n",
      "INFO:tensorflow:Restoring parameters from ./train_log/train/model-15\n"
     ]
    }
   ],
   "source": [
    "from tensorpack.predict import OfflinePredictor\n",
    "predictor = OfflinePredictor(pred_config)"
   ]
  },
  {
   "cell_type": "code",
   "execution_count": 7,
   "metadata": {},
   "outputs": [],
   "source": [
    "import pymongo\n",
    "import pandas as pd\n",
    "import numpy as np\n",
    "from pymongo import MongoClient"
   ]
  },
  {
   "cell_type": "code",
   "execution_count": 8,
   "metadata": {},
   "outputs": [],
   "source": [
    "mongo_client = MongoClient('localhost', 27017)\n",
    "db = mongo_client.crypto_currency\n",
    "collection = db['ohlcv']"
   ]
  },
  {
   "cell_type": "code",
   "execution_count": 9,
   "metadata": {},
   "outputs": [],
   "source": [
    "market = 'binance'\n",
    "symbol = 'BNB/BTC'\n",
    "timewindow = '1h'\n",
    "query = { 'market': market, 'symbol': symbol, 'timewindow':timewindow }\n",
    "\n",
    "df_data = pd.DataFrame(list(collection.find(query)))"
   ]
  },
  {
   "cell_type": "code",
   "execution_count": 10,
   "metadata": {},
   "outputs": [
    {
     "name": "stdout",
     "output_type": "stream",
     "text": [
      "(100, 30, 5)\n"
     ]
    }
   ],
   "source": [
    "cols = ['Open', 'High', 'Low', 'Close', 'Volume']\n",
    "df_test = df_data[cols].iloc[-hps.M * hps.T:].values\n",
    "df_test = np.reshape(df_test, newshape=[hps.M, hps.T, hps.D])\n",
    "print(df_test.shape)"
   ]
  },
  {
   "cell_type": "code",
   "execution_count": 11,
   "metadata": {},
   "outputs": [],
   "source": [
    "# tf.TensorSpec((None, self.hps.T, self.hps.D), tf.float32, 'x'),\n",
    "outputs = predictor(df_test)"
   ]
  },
  {
   "cell_type": "code",
   "execution_count": 12,
   "metadata": {},
   "outputs": [
    {
     "data": {
      "text/plain": [
       "array([[ 0.22112767, -0.18026996]], dtype=float32)"
      ]
     },
     "execution_count": 12,
     "metadata": {},
     "output_type": "execute_result"
    }
   ],
   "source": [
    "outputs[0][-1]"
   ]
  },
  {
   "cell_type": "code",
   "execution_count": 13,
   "metadata": {},
   "outputs": [
    {
     "name": "stdout",
     "output_type": "stream",
     "text": [
      "[[0.6558957  0.3441043 ]\n",
      " [0.6361076  0.36389244]\n",
      " [0.6398929  0.36010712]\n",
      " [0.6199106  0.38008943]\n",
      " [0.65138793 0.348612  ]\n",
      " [0.6009975  0.39900252]\n",
      " [0.6401808  0.35981917]\n",
      " [0.6554924  0.34450755]\n",
      " [0.61280787 0.3871921 ]\n",
      " [0.59902346 0.4009766 ]]\n"
     ]
    }
   ],
   "source": [
    "def softmax(x):\n",
    "    \"x shape is [N, Tau, C] when Tau == 1\"\n",
    "    assert np.shape(x)[1] == 1, \"Tau is not 1\"\n",
    "    x = np.squeeze(x, axis=(1,))\n",
    "    e_x = np.exp(x - np.max(x, axis = -1, keepdims = True))\n",
    "    return e_x / e_x.sum(axis = -1, keepdims = True)\n",
    "\n",
    "print(softmax(outputs[0])[-10:])"
   ]
  }
 ],
 "metadata": {
  "kernelspec": {
   "display_name": "Python 3",
   "language": "python",
   "name": "python3"
  },
  "language_info": {
   "codemirror_mode": {
    "name": "ipython",
    "version": 3
   },
   "file_extension": ".py",
   "mimetype": "text/x-python",
   "name": "python",
   "nbconvert_exporter": "python",
   "pygments_lexer": "ipython3",
   "version": "3.6.8"
  }
 },
 "nbformat": 4,
 "nbformat_minor": 2
}
